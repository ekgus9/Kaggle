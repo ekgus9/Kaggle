{
  "metadata": {
    "kernelspec": {
      "language": "python",
      "display_name": "Python 3",
      "name": "python3"
    },
    "language_info": {
      "name": "python",
      "version": "3.7.12",
      "mimetype": "text/x-python",
      "codemirror_mode": {
        "name": "ipython",
        "version": 3
      },
      "pygments_lexer": "ipython3",
      "nbconvert_exporter": "python",
      "file_extension": ".py"
    },
    "colab": {
      "name": "titanic.ipynb",
      "provenance": []
    }
  },
  "nbformat_minor": 0,
  "nbformat": 4,
  "cells": [
    {
      "cell_type": "code",
      "source": [
        "# This Python 3 environment comes with many helpful analytics libraries installed\n",
        "# It is defined by the kaggle/python Docker image: https://github.com/kaggle/docker-python\n",
        "# For example, here's several helpful packages to load\n",
        "\n",
        "import numpy as np # linear algebra\n",
        "import pandas as pd # data processing, CSV file I/O (e.g. pd.read_csv)\n",
        "\n",
        "# Input data files are available in the read-only \"../input/\" directory\n",
        "# For example, running this (by clicking run or pressing Shift+Enter) will list all files under the input directory\n",
        "\n",
        "import os\n",
        "for dirname, _, filenames in os.walk('/kaggle/input'):\n",
        "    for filename in filenames:\n",
        "        print(os.path.join(dirname, filename))\n",
        "\n",
        "# You can write up to 20GB to the current directory (/kaggle/working/) that gets preserved as output when you create a version using \"Save & Run All\" \n",
        "# You can also write temporary files to /kaggle/temp/, but they won't be saved outside of the current session"
      ],
      "metadata": {
        "_uuid": "8f2839f25d086af736a60e9eeb907d3b93b6e0e5",
        "_cell_guid": "b1076dfc-b9ad-4769-8c92-a6c4dae69d19",
        "execution": {
          "iopub.status.busy": "2022-01-05T08:29:24.624561Z",
          "iopub.execute_input": "2022-01-05T08:29:24.624852Z",
          "iopub.status.idle": "2022-01-05T08:29:24.633547Z",
          "shell.execute_reply.started": "2022-01-05T08:29:24.624823Z",
          "shell.execute_reply": "2022-01-05T08:29:24.632582Z"
        },
        "trusted": true,
        "id": "Ha-BvmPZeGtf"
      },
      "execution_count": null,
      "outputs": []
    },
    {
      "cell_type": "code",
      "source": [
        "import io\n",
        "import pandas as pd\n",
        "import numpy as np\n",
        "%matplotlib inline\n",
        "import seaborn as sns\n",
        "import matplotlib.pyplot as plt\n",
        "from scipy.stats import norm"
      ],
      "metadata": {
        "execution": {
          "iopub.status.busy": "2022-01-05T08:29:24.635594Z",
          "iopub.execute_input": "2022-01-05T08:29:24.636056Z",
          "iopub.status.idle": "2022-01-05T08:29:24.650466Z",
          "shell.execute_reply.started": "2022-01-05T08:29:24.636012Z",
          "shell.execute_reply": "2022-01-05T08:29:24.649406Z"
        },
        "trusted": true,
        "id": "qcVl4TqYeGts"
      },
      "execution_count": 7,
      "outputs": []
    },
    {
      "cell_type": "code",
      "source": [
        "myfile = files.upload()"
      ],
      "metadata": {
        "colab": {
          "resources": {
            "http://localhost:8080/nbextensions/google.colab/files.js": {
              "data": "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",
              "ok": true,
              "headers": [
                [
                  "content-type",
                  "application/javascript"
                ]
              ],
              "status": 200,
              "status_text": ""
            }
          },
          "base_uri": "https://localhost:8080/",
          "height": 148
        },
        "id": "3xhF6CWlkPEg",
        "outputId": "8c7c0f11-8ccf-4c59-d5c8-0388697f8d3d"
      },
      "execution_count": 9,
      "outputs": [
        {
          "output_type": "display_data",
          "data": {
            "text/html": [
              "\n",
              "     <input type=\"file\" id=\"files-a2d7a2a6-50a5-4094-bcfa-6fcb1c6f057d\" name=\"files[]\" multiple disabled\n",
              "        style=\"border:none\" />\n",
              "     <output id=\"result-a2d7a2a6-50a5-4094-bcfa-6fcb1c6f057d\">\n",
              "      Upload widget is only available when the cell has been executed in the\n",
              "      current browser session. Please rerun this cell to enable.\n",
              "      </output>\n",
              "      <script src=\"/nbextensions/google.colab/files.js\"></script> "
            ],
            "text/plain": [
              "<IPython.core.display.HTML object>"
            ]
          },
          "metadata": {}
        },
        {
          "output_type": "stream",
          "name": "stdout",
          "text": [
            "Saving gender_submission.csv to gender_submission.csv\n",
            "Saving test.csv to test.csv\n",
            "Saving train.csv to train.csv\n"
          ]
        }
      ]
    },
    {
      "cell_type": "code",
      "source": [
        "train=pd.read_csv(io.BytesIO(myfile['train.csv']))\n",
        "test=pd.read_csv(io.BytesIO(myfile['test.csv']))\n",
        "submission=pd.read_csv(io.BytesIO(myfile['gender_submission.csv']))"
      ],
      "metadata": {
        "execution": {
          "iopub.status.busy": "2022-01-05T08:29:24.651580Z",
          "iopub.execute_input": "2022-01-05T08:29:24.651902Z",
          "iopub.status.idle": "2022-01-05T08:29:24.674743Z",
          "shell.execute_reply.started": "2022-01-05T08:29:24.651874Z",
          "shell.execute_reply": "2022-01-05T08:29:24.673845Z"
        },
        "trusted": true,
        "id": "fhLn-degeGtu"
      },
      "execution_count": 10,
      "outputs": []
    },
    {
      "cell_type": "code",
      "source": [
        "train.head()"
      ],
      "metadata": {
        "execution": {
          "iopub.status.busy": "2022-01-05T08:29:24.675927Z",
          "iopub.execute_input": "2022-01-05T08:29:24.676292Z",
          "iopub.status.idle": "2022-01-05T08:29:24.690796Z",
          "shell.execute_reply.started": "2022-01-05T08:29:24.676262Z",
          "shell.execute_reply": "2022-01-05T08:29:24.690146Z"
        },
        "trusted": true,
        "id": "H5VNAwyweGtw",
        "colab": {
          "base_uri": "https://localhost:8080/",
          "height": 206
        },
        "outputId": "e7a4871f-e843-4d0a-ed3d-03f9216aadb4"
      },
      "execution_count": 11,
      "outputs": [
        {
          "output_type": "execute_result",
          "data": {
            "text/html": [
              "\n",
              "  <div id=\"df-9152cec5-cc59-460b-bbc8-8dcdf6427f1a\">\n",
              "    <div class=\"colab-df-container\">\n",
              "      <div>\n",
              "<style scoped>\n",
              "    .dataframe tbody tr th:only-of-type {\n",
              "        vertical-align: middle;\n",
              "    }\n",
              "\n",
              "    .dataframe tbody tr th {\n",
              "        vertical-align: top;\n",
              "    }\n",
              "\n",
              "    .dataframe thead th {\n",
              "        text-align: right;\n",
              "    }\n",
              "</style>\n",
              "<table border=\"1\" class=\"dataframe\">\n",
              "  <thead>\n",
              "    <tr style=\"text-align: right;\">\n",
              "      <th></th>\n",
              "      <th>PassengerId</th>\n",
              "      <th>Survived</th>\n",
              "      <th>Pclass</th>\n",
              "      <th>Name</th>\n",
              "      <th>Sex</th>\n",
              "      <th>Age</th>\n",
              "      <th>SibSp</th>\n",
              "      <th>Parch</th>\n",
              "      <th>Ticket</th>\n",
              "      <th>Fare</th>\n",
              "      <th>Cabin</th>\n",
              "      <th>Embarked</th>\n",
              "    </tr>\n",
              "  </thead>\n",
              "  <tbody>\n",
              "    <tr>\n",
              "      <th>0</th>\n",
              "      <td>1</td>\n",
              "      <td>0</td>\n",
              "      <td>3</td>\n",
              "      <td>Braund, Mr. Owen Harris</td>\n",
              "      <td>male</td>\n",
              "      <td>22.0</td>\n",
              "      <td>1</td>\n",
              "      <td>0</td>\n",
              "      <td>A/5 21171</td>\n",
              "      <td>7.2500</td>\n",
              "      <td>NaN</td>\n",
              "      <td>S</td>\n",
              "    </tr>\n",
              "    <tr>\n",
              "      <th>1</th>\n",
              "      <td>2</td>\n",
              "      <td>1</td>\n",
              "      <td>1</td>\n",
              "      <td>Cumings, Mrs. John Bradley (Florence Briggs Th...</td>\n",
              "      <td>female</td>\n",
              "      <td>38.0</td>\n",
              "      <td>1</td>\n",
              "      <td>0</td>\n",
              "      <td>PC 17599</td>\n",
              "      <td>71.2833</td>\n",
              "      <td>C85</td>\n",
              "      <td>C</td>\n",
              "    </tr>\n",
              "    <tr>\n",
              "      <th>2</th>\n",
              "      <td>3</td>\n",
              "      <td>1</td>\n",
              "      <td>3</td>\n",
              "      <td>Heikkinen, Miss. Laina</td>\n",
              "      <td>female</td>\n",
              "      <td>26.0</td>\n",
              "      <td>0</td>\n",
              "      <td>0</td>\n",
              "      <td>STON/O2. 3101282</td>\n",
              "      <td>7.9250</td>\n",
              "      <td>NaN</td>\n",
              "      <td>S</td>\n",
              "    </tr>\n",
              "    <tr>\n",
              "      <th>3</th>\n",
              "      <td>4</td>\n",
              "      <td>1</td>\n",
              "      <td>1</td>\n",
              "      <td>Futrelle, Mrs. Jacques Heath (Lily May Peel)</td>\n",
              "      <td>female</td>\n",
              "      <td>35.0</td>\n",
              "      <td>1</td>\n",
              "      <td>0</td>\n",
              "      <td>113803</td>\n",
              "      <td>53.1000</td>\n",
              "      <td>C123</td>\n",
              "      <td>S</td>\n",
              "    </tr>\n",
              "    <tr>\n",
              "      <th>4</th>\n",
              "      <td>5</td>\n",
              "      <td>0</td>\n",
              "      <td>3</td>\n",
              "      <td>Allen, Mr. William Henry</td>\n",
              "      <td>male</td>\n",
              "      <td>35.0</td>\n",
              "      <td>0</td>\n",
              "      <td>0</td>\n",
              "      <td>373450</td>\n",
              "      <td>8.0500</td>\n",
              "      <td>NaN</td>\n",
              "      <td>S</td>\n",
              "    </tr>\n",
              "  </tbody>\n",
              "</table>\n",
              "</div>\n",
              "      <button class=\"colab-df-convert\" onclick=\"convertToInteractive('df-9152cec5-cc59-460b-bbc8-8dcdf6427f1a')\"\n",
              "              title=\"Convert this dataframe to an interactive table.\"\n",
              "              style=\"display:none;\">\n",
              "        \n",
              "  <svg xmlns=\"http://www.w3.org/2000/svg\" height=\"24px\"viewBox=\"0 0 24 24\"\n",
              "       width=\"24px\">\n",
              "    <path d=\"M0 0h24v24H0V0z\" fill=\"none\"/>\n",
              "    <path d=\"M18.56 5.44l.94 2.06.94-2.06 2.06-.94-2.06-.94-.94-2.06-.94 2.06-2.06.94zm-11 1L8.5 8.5l.94-2.06 2.06-.94-2.06-.94L8.5 2.5l-.94 2.06-2.06.94zm10 10l.94 2.06.94-2.06 2.06-.94-2.06-.94-.94-2.06-.94 2.06-2.06.94z\"/><path d=\"M17.41 7.96l-1.37-1.37c-.4-.4-.92-.59-1.43-.59-.52 0-1.04.2-1.43.59L10.3 9.45l-7.72 7.72c-.78.78-.78 2.05 0 2.83L4 21.41c.39.39.9.59 1.41.59.51 0 1.02-.2 1.41-.59l7.78-7.78 2.81-2.81c.8-.78.8-2.07 0-2.86zM5.41 20L4 18.59l7.72-7.72 1.47 1.35L5.41 20z\"/>\n",
              "  </svg>\n",
              "      </button>\n",
              "      \n",
              "  <style>\n",
              "    .colab-df-container {\n",
              "      display:flex;\n",
              "      flex-wrap:wrap;\n",
              "      gap: 12px;\n",
              "    }\n",
              "\n",
              "    .colab-df-convert {\n",
              "      background-color: #E8F0FE;\n",
              "      border: none;\n",
              "      border-radius: 50%;\n",
              "      cursor: pointer;\n",
              "      display: none;\n",
              "      fill: #1967D2;\n",
              "      height: 32px;\n",
              "      padding: 0 0 0 0;\n",
              "      width: 32px;\n",
              "    }\n",
              "\n",
              "    .colab-df-convert:hover {\n",
              "      background-color: #E2EBFA;\n",
              "      box-shadow: 0px 1px 2px rgba(60, 64, 67, 0.3), 0px 1px 3px 1px rgba(60, 64, 67, 0.15);\n",
              "      fill: #174EA6;\n",
              "    }\n",
              "\n",
              "    [theme=dark] .colab-df-convert {\n",
              "      background-color: #3B4455;\n",
              "      fill: #D2E3FC;\n",
              "    }\n",
              "\n",
              "    [theme=dark] .colab-df-convert:hover {\n",
              "      background-color: #434B5C;\n",
              "      box-shadow: 0px 1px 3px 1px rgba(0, 0, 0, 0.15);\n",
              "      filter: drop-shadow(0px 1px 2px rgba(0, 0, 0, 0.3));\n",
              "      fill: #FFFFFF;\n",
              "    }\n",
              "  </style>\n",
              "\n",
              "      <script>\n",
              "        const buttonEl =\n",
              "          document.querySelector('#df-9152cec5-cc59-460b-bbc8-8dcdf6427f1a button.colab-df-convert');\n",
              "        buttonEl.style.display =\n",
              "          google.colab.kernel.accessAllowed ? 'block' : 'none';\n",
              "\n",
              "        async function convertToInteractive(key) {\n",
              "          const element = document.querySelector('#df-9152cec5-cc59-460b-bbc8-8dcdf6427f1a');\n",
              "          const dataTable =\n",
              "            await google.colab.kernel.invokeFunction('convertToInteractive',\n",
              "                                                     [key], {});\n",
              "          if (!dataTable) return;\n",
              "\n",
              "          const docLinkHtml = 'Like what you see? Visit the ' +\n",
              "            '<a target=\"_blank\" href=https://colab.research.google.com/notebooks/data_table.ipynb>data table notebook</a>'\n",
              "            + ' to learn more about interactive tables.';\n",
              "          element.innerHTML = '';\n",
              "          dataTable['output_type'] = 'display_data';\n",
              "          await google.colab.output.renderOutput(dataTable, element);\n",
              "          const docLink = document.createElement('div');\n",
              "          docLink.innerHTML = docLinkHtml;\n",
              "          element.appendChild(docLink);\n",
              "        }\n",
              "      </script>\n",
              "    </div>\n",
              "  </div>\n",
              "  "
            ],
            "text/plain": [
              "   PassengerId  Survived  Pclass  ...     Fare Cabin  Embarked\n",
              "0            1         0       3  ...   7.2500   NaN         S\n",
              "1            2         1       1  ...  71.2833   C85         C\n",
              "2            3         1       3  ...   7.9250   NaN         S\n",
              "3            4         1       1  ...  53.1000  C123         S\n",
              "4            5         0       3  ...   8.0500   NaN         S\n",
              "\n",
              "[5 rows x 12 columns]"
            ]
          },
          "metadata": {},
          "execution_count": 11
        }
      ]
    },
    {
      "cell_type": "code",
      "source": [
        "train.isnull().sum()"
      ],
      "metadata": {
        "execution": {
          "iopub.status.busy": "2022-01-05T08:29:24.692672Z",
          "iopub.execute_input": "2022-01-05T08:29:24.693018Z",
          "iopub.status.idle": "2022-01-05T08:29:24.707382Z",
          "shell.execute_reply.started": "2022-01-05T08:29:24.692989Z",
          "shell.execute_reply": "2022-01-05T08:29:24.706418Z"
        },
        "trusted": true,
        "id": "H3cIczTbeGtx",
        "colab": {
          "base_uri": "https://localhost:8080/"
        },
        "outputId": "6e8a5886-6de1-455f-b1c4-e7dd5138883b"
      },
      "execution_count": 12,
      "outputs": [
        {
          "output_type": "execute_result",
          "data": {
            "text/plain": [
              "PassengerId      0\n",
              "Survived         0\n",
              "Pclass           0\n",
              "Name             0\n",
              "Sex              0\n",
              "Age            177\n",
              "SibSp            0\n",
              "Parch            0\n",
              "Ticket           0\n",
              "Fare             0\n",
              "Cabin          687\n",
              "Embarked         2\n",
              "dtype: int64"
            ]
          },
          "metadata": {},
          "execution_count": 12
        }
      ]
    },
    {
      "cell_type": "code",
      "source": [
        "train['Pclass'].value_counts()"
      ],
      "metadata": {
        "execution": {
          "iopub.status.busy": "2022-01-05T08:29:24.708749Z",
          "iopub.execute_input": "2022-01-05T08:29:24.709093Z",
          "iopub.status.idle": "2022-01-05T08:29:24.721506Z",
          "shell.execute_reply.started": "2022-01-05T08:29:24.708956Z",
          "shell.execute_reply": "2022-01-05T08:29:24.720751Z"
        },
        "trusted": true,
        "id": "yC8lUJq-eGtz",
        "colab": {
          "base_uri": "https://localhost:8080/"
        },
        "outputId": "270874ee-d911-480a-d657-51150d759cdd"
      },
      "execution_count": 13,
      "outputs": [
        {
          "output_type": "execute_result",
          "data": {
            "text/plain": [
              "3    491\n",
              "1    216\n",
              "2    184\n",
              "Name: Pclass, dtype: int64"
            ]
          },
          "metadata": {},
          "execution_count": 13
        }
      ]
    },
    {
      "cell_type": "code",
      "source": [
        "train['Cabin'].unique()"
      ],
      "metadata": {
        "execution": {
          "iopub.status.busy": "2022-01-05T08:29:24.722714Z",
          "iopub.execute_input": "2022-01-05T08:29:24.723141Z",
          "iopub.status.idle": "2022-01-05T08:29:24.732598Z",
          "shell.execute_reply.started": "2022-01-05T08:29:24.723109Z",
          "shell.execute_reply": "2022-01-05T08:29:24.731521Z"
        },
        "trusted": true,
        "id": "G7MXE6baeGt1",
        "colab": {
          "base_uri": "https://localhost:8080/"
        },
        "outputId": "89624986-df18-4ca7-e390-4e8644e6af80"
      },
      "execution_count": 14,
      "outputs": [
        {
          "output_type": "execute_result",
          "data": {
            "text/plain": [
              "array([nan, 'C85', 'C123', 'E46', 'G6', 'C103', 'D56', 'A6',\n",
              "       'C23 C25 C27', 'B78', 'D33', 'B30', 'C52', 'B28', 'C83', 'F33',\n",
              "       'F G73', 'E31', 'A5', 'D10 D12', 'D26', 'C110', 'B58 B60', 'E101',\n",
              "       'F E69', 'D47', 'B86', 'F2', 'C2', 'E33', 'B19', 'A7', 'C49', 'F4',\n",
              "       'A32', 'B4', 'B80', 'A31', 'D36', 'D15', 'C93', 'C78', 'D35',\n",
              "       'C87', 'B77', 'E67', 'B94', 'C125', 'C99', 'C118', 'D7', 'A19',\n",
              "       'B49', 'D', 'C22 C26', 'C106', 'C65', 'E36', 'C54',\n",
              "       'B57 B59 B63 B66', 'C7', 'E34', 'C32', 'B18', 'C124', 'C91', 'E40',\n",
              "       'T', 'C128', 'D37', 'B35', 'E50', 'C82', 'B96 B98', 'E10', 'E44',\n",
              "       'A34', 'C104', 'C111', 'C92', 'E38', 'D21', 'E12', 'E63', 'A14',\n",
              "       'B37', 'C30', 'D20', 'B79', 'E25', 'D46', 'B73', 'C95', 'B38',\n",
              "       'B39', 'B22', 'C86', 'C70', 'A16', 'C101', 'C68', 'A10', 'E68',\n",
              "       'B41', 'A20', 'D19', 'D50', 'D9', 'A23', 'B50', 'A26', 'D48',\n",
              "       'E58', 'C126', 'B71', 'B51 B53 B55', 'D49', 'B5', 'B20', 'F G63',\n",
              "       'C62 C64', 'E24', 'C90', 'C45', 'E8', 'B101', 'D45', 'C46', 'D30',\n",
              "       'E121', 'D11', 'E77', 'F38', 'B3', 'D6', 'B82 B84', 'D17', 'A36',\n",
              "       'B102', 'B69', 'E49', 'C47', 'D28', 'E17', 'A24', 'C50', 'B42',\n",
              "       'C148'], dtype=object)"
            ]
          },
          "metadata": {},
          "execution_count": 14
        }
      ]
    },
    {
      "cell_type": "code",
      "source": [
        "train = train.drop(columns = 'Cabin')\n",
        "test = test.drop(columns = 'Cabin')\n",
        "train = train.drop(columns = 'PassengerId')\n",
        "test = test.drop(columns = 'PassengerId')"
      ],
      "metadata": {
        "execution": {
          "iopub.status.busy": "2022-01-05T08:29:24.733823Z",
          "iopub.execute_input": "2022-01-05T08:29:24.734255Z",
          "iopub.status.idle": "2022-01-05T08:29:24.748226Z",
          "shell.execute_reply.started": "2022-01-05T08:29:24.734209Z",
          "shell.execute_reply": "2022-01-05T08:29:24.747599Z"
        },
        "trusted": true,
        "id": "64olkpd4eGt3"
      },
      "execution_count": 15,
      "outputs": []
    },
    {
      "cell_type": "code",
      "source": [
        "train['Embarked'].value_counts()"
      ],
      "metadata": {
        "execution": {
          "iopub.status.busy": "2022-01-05T08:29:24.749624Z",
          "iopub.execute_input": "2022-01-05T08:29:24.750279Z",
          "iopub.status.idle": "2022-01-05T08:29:24.762276Z",
          "shell.execute_reply.started": "2022-01-05T08:29:24.750246Z",
          "shell.execute_reply": "2022-01-05T08:29:24.761378Z"
        },
        "trusted": true,
        "id": "Ji6N2osieGt5",
        "colab": {
          "base_uri": "https://localhost:8080/"
        },
        "outputId": "43e4eb57-e69d-4024-ce31-adfbe19838c8"
      },
      "execution_count": 16,
      "outputs": [
        {
          "output_type": "execute_result",
          "data": {
            "text/plain": [
              "S    644\n",
              "C    168\n",
              "Q     77\n",
              "Name: Embarked, dtype: int64"
            ]
          },
          "metadata": {},
          "execution_count": 16
        }
      ]
    },
    {
      "cell_type": "code",
      "source": [
        "train['Age'] = train['Age'].fillna(train['Age'].mean())\n",
        "train['Embarked'] = train['Embarked'].fillna('S')\n",
        "test['Age'] = test['Age'].fillna(test['Age'].mean())\n",
        "test['Embarked'] = test['Embarked'].fillna('S')"
      ],
      "metadata": {
        "execution": {
          "iopub.status.busy": "2022-01-05T08:29:24.763287Z",
          "iopub.execute_input": "2022-01-05T08:29:24.763965Z",
          "iopub.status.idle": "2022-01-05T08:29:24.776365Z",
          "shell.execute_reply.started": "2022-01-05T08:29:24.763928Z",
          "shell.execute_reply": "2022-01-05T08:29:24.775391Z"
        },
        "trusted": true,
        "id": "HYH811umeGt9"
      },
      "execution_count": 17,
      "outputs": []
    },
    {
      "cell_type": "code",
      "source": [
        "sns.barplot(data=train,x='Pclass',y='Survived')"
      ],
      "metadata": {
        "execution": {
          "iopub.status.busy": "2022-01-05T08:29:24.777555Z",
          "iopub.execute_input": "2022-01-05T08:29:24.778482Z",
          "iopub.status.idle": "2022-01-05T08:29:25.039810Z",
          "shell.execute_reply.started": "2022-01-05T08:29:24.778444Z",
          "shell.execute_reply": "2022-01-05T08:29:25.039186Z"
        },
        "trusted": true,
        "id": "vrfokQIeeGt-",
        "colab": {
          "base_uri": "https://localhost:8080/",
          "height": 297
        },
        "outputId": "1a965de4-1717-4a2d-c802-0c3fd8754c4d"
      },
      "execution_count": 18,
      "outputs": [
        {
          "output_type": "execute_result",
          "data": {
            "text/plain": [
              "<matplotlib.axes._subplots.AxesSubplot at 0x7f36bc16a750>"
            ]
          },
          "metadata": {},
          "execution_count": 18
        },
        {
          "output_type": "display_data",
          "data": {
            "image/png": "[encoded data removed]",
            "text/plain": [
              "<Figure size 432x288 with 1 Axes>"
            ]
          },
          "metadata": {
            "needs_background": "light"
          }
        }
      ]
    },
    {
      "cell_type": "code",
      "source": [
        "train['Pclass_1'] = (train['Pclass']==1)\n",
        "train['Pclass_2'] = (train['Pclass']==2)\n",
        "train['Pclass_3'] = (train['Pclass']==3)\n",
        "\n",
        "test['Pclass_1'] = (test['Pclass']==1)\n",
        "test['Pclass_2'] = (test['Pclass']==2)\n",
        "test['Pclass_3'] = (test['Pclass']==3)"
      ],
      "metadata": {
        "execution": {
          "iopub.status.busy": "2022-01-05T08:29:25.040725Z",
          "iopub.execute_input": "2022-01-05T08:29:25.041336Z",
          "iopub.status.idle": "2022-01-05T08:29:25.050477Z",
          "shell.execute_reply.started": "2022-01-05T08:29:25.041291Z",
          "shell.execute_reply": "2022-01-05T08:29:25.049574Z"
        },
        "trusted": true,
        "id": "70UhV_fjeGt_"
      },
      "execution_count": 19,
      "outputs": []
    },
    {
      "cell_type": "code",
      "source": [
        "train = train.drop(columns = 'Pclass')\n",
        "test = test.drop(columns = 'Pclass')"
      ],
      "metadata": {
        "execution": {
          "iopub.status.busy": "2022-01-05T08:29:25.053438Z",
          "iopub.execute_input": "2022-01-05T08:29:25.053654Z",
          "iopub.status.idle": "2022-01-05T08:29:25.069175Z",
          "shell.execute_reply.started": "2022-01-05T08:29:25.053629Z",
          "shell.execute_reply": "2022-01-05T08:29:25.068298Z"
        },
        "trusted": true,
        "id": "PT-CfKsaeGuA"
      },
      "execution_count": 20,
      "outputs": []
    },
    {
      "cell_type": "code",
      "source": [
        "train['Title'] = train['Name'].str.extract(\"([A-Za-z]+)\\.\", expand=False)\n",
        "train['Title'].value_counts()"
      ],
      "metadata": {
        "execution": {
          "iopub.status.busy": "2022-01-05T08:29:25.070349Z",
          "iopub.execute_input": "2022-01-05T08:29:25.070645Z",
          "iopub.status.idle": "2022-01-05T08:29:25.082553Z",
          "shell.execute_reply.started": "2022-01-05T08:29:25.070620Z",
          "shell.execute_reply": "2022-01-05T08:29:25.081912Z"
        },
        "trusted": true,
        "id": "Kb_a37g0eGuB",
        "colab": {
          "base_uri": "https://localhost:8080/"
        },
        "outputId": "7c80e3fc-047e-4eaa-a364-3d1fd7048258"
      },
      "execution_count": 21,
      "outputs": [
        {
          "output_type": "execute_result",
          "data": {
            "text/plain": [
              "Mr          517\n",
              "Miss        182\n",
              "Mrs         125\n",
              "Master       40\n",
              "Dr            7\n",
              "Rev           6\n",
              "Major         2\n",
              "Mlle          2\n",
              "Col           2\n",
              "Capt          1\n",
              "Lady          1\n",
              "Don           1\n",
              "Countess      1\n",
              "Jonkheer      1\n",
              "Mme           1\n",
              "Ms            1\n",
              "Sir           1\n",
              "Name: Title, dtype: int64"
            ]
          },
          "metadata": {},
          "execution_count": 21
        }
      ]
    },
    {
      "cell_type": "code",
      "source": [
        "test['Title'] = test['Name'].str.extract(\"([A-Za-z]+)\\.\", expand=False)"
      ],
      "metadata": {
        "execution": {
          "iopub.status.busy": "2022-01-05T08:29:25.084040Z",
          "iopub.execute_input": "2022-01-05T08:29:25.084270Z",
          "iopub.status.idle": "2022-01-05T08:29:25.090140Z",
          "shell.execute_reply.started": "2022-01-05T08:29:25.084244Z",
          "shell.execute_reply": "2022-01-05T08:29:25.089310Z"
        },
        "trusted": true,
        "id": "EBmoXQ3CeGuC"
      },
      "execution_count": 22,
      "outputs": []
    },
    {
      "cell_type": "code",
      "source": [
        "sns.barplot(data=train,x='Title',y='Survived')"
      ],
      "metadata": {
        "execution": {
          "iopub.status.busy": "2022-01-05T08:29:25.091258Z",
          "iopub.execute_input": "2022-01-05T08:29:25.091487Z",
          "iopub.status.idle": "2022-01-05T08:29:25.579208Z",
          "shell.execute_reply.started": "2022-01-05T08:29:25.091462Z",
          "shell.execute_reply": "2022-01-05T08:29:25.578369Z"
        },
        "trusted": true,
        "id": "zlftOUySeGuD",
        "colab": {
          "base_uri": "https://localhost:8080/",
          "height": 297
        },
        "outputId": "bb70c4f1-d9f3-4397-9f90-176a70d2ad7f"
      },
      "execution_count": 23,
      "outputs": [
        {
          "output_type": "execute_result",
          "data": {
            "text/plain": [
              "<matplotlib.axes._subplots.AxesSubplot at 0x7f36bb9b1f90>"
            ]
          },
          "metadata": {},
          "execution_count": 23
        },
        {
          "output_type": "display_data",
          "data": {
            "image/png": "[encoded data removed]",
            "text/plain": [
              "<Figure size 432x288 with 1 Axes>"
            ]
          },
          "metadata": {
            "needs_background": "light"
          }
        }
      ]
    },
    {
      "cell_type": "code",
      "source": [
        "train['Title'] = train['Title'].replace(['Capt', 'Col', 'Major', 'Dr', 'Rev'], 'Officer')\n",
        "train['Title'] = train['Title'].replace(['Jonkheer', 'Master'], 'Master')\n",
        "train['Title'] = train['Title'].replace(['Don', 'Sir', 'Countess', 'Lady', 'Dona'], 'Royalty')\n",
        "train['Title'] = train['Title'].replace(['Mme', 'Ms', 'Mrs'], 'Mrs')\n",
        "train['Title'] = train['Title'].replace(['Mlle', 'Miss'], 'Miss')\n",
        "train['Title'] = train['Title'].replace(['Mr'], 'Mr')\n",
        "\n",
        "test['Title'] = test['Title'].replace(['Capt', 'Col', 'Major', 'Dr', 'Rev'], 'Officer')\n",
        "test['Title'] = test['Title'].replace(['Jonkheer', 'Master'], 'Master')\n",
        "test['Title'] = test['Title'].replace(['Don', 'Sir', 'Countess', 'Lady', 'Dona'], 'Royalty')\n",
        "test['Title'] = test['Title'].replace(['Mme', 'Ms', 'Mrs'], 'Mrs')\n",
        "test['Title'] = test['Title'].replace(['Mlle', 'Miss'], 'Miss')\n",
        "test['Title'] = test['Title'].replace(['Mr'], 'Mr')"
      ],
      "metadata": {
        "execution": {
          "iopub.status.busy": "2022-01-05T08:29:25.580632Z",
          "iopub.execute_input": "2022-01-05T08:29:25.581075Z",
          "iopub.status.idle": "2022-01-05T08:29:25.604992Z",
          "shell.execute_reply.started": "2022-01-05T08:29:25.580985Z",
          "shell.execute_reply": "2022-01-05T08:29:25.604185Z"
        },
        "trusted": true,
        "id": "NPc-Nf4PeGuE"
      },
      "execution_count": 24,
      "outputs": []
    },
    {
      "cell_type": "code",
      "source": [
        "train['Title_1'] = (train['Title']=='Officer')\n",
        "train['Title_2'] = (train['Title']=='Master')\n",
        "train['Title_3'] = (train['Title']=='Royalty')\n",
        "train['Title_4'] = (train['Title']=='Mrs')\n",
        "train['Title_5'] = (train['Title']=='Miss')\n",
        "train['Title_6'] = (train['Title']=='Mr')\n",
        "\n",
        "test['Title_1'] = (test['Title']=='Officer')\n",
        "test['Title_2'] = (test['Title']=='Master')\n",
        "test['Title_3'] = (test['Title']=='Royalty')\n",
        "test['Title_4'] = (test['Title']=='Mrs')\n",
        "test['Title_5'] = (test['Title']=='Miss')\n",
        "test['Title_6'] = (test['Title']=='Mr')"
      ],
      "metadata": {
        "execution": {
          "iopub.status.busy": "2022-01-05T08:29:25.606496Z",
          "iopub.execute_input": "2022-01-05T08:29:25.606801Z",
          "iopub.status.idle": "2022-01-05T08:29:25.623431Z",
          "shell.execute_reply.started": "2022-01-05T08:29:25.606761Z",
          "shell.execute_reply": "2022-01-05T08:29:25.622742Z"
        },
        "trusted": true,
        "id": "-CZ1eHdoeGuF"
      },
      "execution_count": 25,
      "outputs": []
    },
    {
      "cell_type": "code",
      "source": [
        "train = train.drop(columns = 'Title')\n",
        "test = test.drop(columns = 'Title')"
      ],
      "metadata": {
        "execution": {
          "iopub.status.busy": "2022-01-05T08:29:25.624592Z",
          "iopub.execute_input": "2022-01-05T08:29:25.625266Z",
          "iopub.status.idle": "2022-01-05T08:29:25.636080Z",
          "shell.execute_reply.started": "2022-01-05T08:29:25.625231Z",
          "shell.execute_reply": "2022-01-05T08:29:25.635440Z"
        },
        "trusted": true,
        "id": "K0uA8mMneGuH"
      },
      "execution_count": 26,
      "outputs": []
    },
    {
      "cell_type": "code",
      "source": [
        "train = train.drop(columns = 'Name')\n",
        "test = test.drop(columns = 'Name')"
      ],
      "metadata": {
        "execution": {
          "iopub.status.busy": "2022-01-05T08:29:25.637080Z",
          "iopub.execute_input": "2022-01-05T08:29:25.637388Z",
          "iopub.status.idle": "2022-01-05T08:29:25.653477Z",
          "shell.execute_reply.started": "2022-01-05T08:29:25.637350Z",
          "shell.execute_reply": "2022-01-05T08:29:25.652614Z"
        },
        "trusted": true,
        "id": "iMi3RKw6eGuJ"
      },
      "execution_count": 27,
      "outputs": []
    },
    {
      "cell_type": "code",
      "source": [
        "train.dtypes"
      ],
      "metadata": {
        "execution": {
          "iopub.status.busy": "2022-01-05T08:29:25.654818Z",
          "iopub.execute_input": "2022-01-05T08:29:25.655040Z",
          "iopub.status.idle": "2022-01-05T08:29:25.667598Z",
          "shell.execute_reply.started": "2022-01-05T08:29:25.655013Z",
          "shell.execute_reply": "2022-01-05T08:29:25.666529Z"
        },
        "trusted": true,
        "id": "w8u6Fep9eGuM",
        "colab": {
          "base_uri": "https://localhost:8080/"
        },
        "outputId": "e86bcdb3-cfdd-4b81-e0f3-acd352a4dfda"
      },
      "execution_count": 28,
      "outputs": [
        {
          "output_type": "execute_result",
          "data": {
            "text/plain": [
              "Survived      int64\n",
              "Sex          object\n",
              "Age         float64\n",
              "SibSp         int64\n",
              "Parch         int64\n",
              "Ticket       object\n",
              "Fare        float64\n",
              "Embarked     object\n",
              "Pclass_1       bool\n",
              "Pclass_2       bool\n",
              "Pclass_3       bool\n",
              "Title_1        bool\n",
              "Title_2        bool\n",
              "Title_3        bool\n",
              "Title_4        bool\n",
              "Title_5        bool\n",
              "Title_6        bool\n",
              "dtype: object"
            ]
          },
          "metadata": {},
          "execution_count": 28
        }
      ]
    },
    {
      "cell_type": "code",
      "source": [
        "train['Sex'].value_counts()"
      ],
      "metadata": {
        "execution": {
          "iopub.status.busy": "2022-01-05T08:29:25.668897Z",
          "iopub.execute_input": "2022-01-05T08:29:25.669277Z",
          "iopub.status.idle": "2022-01-05T08:29:25.680437Z",
          "shell.execute_reply.started": "2022-01-05T08:29:25.669243Z",
          "shell.execute_reply": "2022-01-05T08:29:25.679641Z"
        },
        "trusted": true,
        "id": "A7I47vS6eGuN",
        "colab": {
          "base_uri": "https://localhost:8080/"
        },
        "outputId": "ec2cbb64-a9d0-4930-926f-802e1019059b"
      },
      "execution_count": 29,
      "outputs": [
        {
          "output_type": "execute_result",
          "data": {
            "text/plain": [
              "male      577\n",
              "female    314\n",
              "Name: Sex, dtype: int64"
            ]
          },
          "metadata": {},
          "execution_count": 29
        }
      ]
    },
    {
      "cell_type": "code",
      "source": [
        "train['male'] = (train['Sex']=='male')\n",
        "test['male'] = (test['Sex']=='male')"
      ],
      "metadata": {
        "execution": {
          "iopub.status.busy": "2022-01-05T08:29:25.681768Z",
          "iopub.execute_input": "2022-01-05T08:29:25.682104Z",
          "iopub.status.idle": "2022-01-05T08:29:25.695114Z",
          "shell.execute_reply.started": "2022-01-05T08:29:25.682065Z",
          "shell.execute_reply": "2022-01-05T08:29:25.694388Z"
        },
        "trusted": true,
        "id": "HN5ByWAxeGuO"
      },
      "execution_count": 30,
      "outputs": []
    },
    {
      "cell_type": "code",
      "source": [
        "train = train.drop(columns = 'Sex')\n",
        "test = test.drop(columns = 'Sex')"
      ],
      "metadata": {
        "execution": {
          "iopub.status.busy": "2022-01-05T08:29:25.696023Z",
          "iopub.execute_input": "2022-01-05T08:29:25.696800Z",
          "iopub.status.idle": "2022-01-05T08:29:25.709971Z",
          "shell.execute_reply.started": "2022-01-05T08:29:25.696754Z",
          "shell.execute_reply": "2022-01-05T08:29:25.709387Z"
        },
        "trusted": true,
        "id": "tkrEm9IQeGuQ"
      },
      "execution_count": 31,
      "outputs": []
    },
    {
      "cell_type": "code",
      "source": [
        "sns.barplot(data=train,x='Age',y='Survived')"
      ],
      "metadata": {
        "execution": {
          "iopub.status.busy": "2022-01-05T08:29:25.710889Z",
          "iopub.execute_input": "2022-01-05T08:29:25.711788Z",
          "iopub.status.idle": "2022-01-05T08:29:28.549463Z",
          "shell.execute_reply.started": "2022-01-05T08:29:25.711752Z",
          "shell.execute_reply": "2022-01-05T08:29:28.548598Z"
        },
        "trusted": true,
        "id": "i7xKqi5KeGuS",
        "colab": {
          "base_uri": "https://localhost:8080/",
          "height": 297
        },
        "outputId": "5714b863-4109-418f-b559-b06f6f131be0"
      },
      "execution_count": 32,
      "outputs": [
        {
          "output_type": "execute_result",
          "data": {
            "text/plain": [
              "<matplotlib.axes._subplots.AxesSubplot at 0x7f36bb9a27d0>"
            ]
          },
          "metadata": {},
          "execution_count": 32
        },
        {
          "output_type": "display_data",
          "data": {
            "image/png": "[encoded data removed]",
            "text/plain": [
              "<Figure size 432x288 with 1 Axes>"
            ]
          },
          "metadata": {
            "needs_background": "light"
          }
        }
      ]
    },
    {
      "cell_type": "code",
      "source": [
        "bin = [0, 18, 25, 35, 60, 100]\n",
        "group_names = ['Baby', 'Youth', 'YoungAdult', 'MiddleAged', 'Senior']\n",
        "train['AgeGroup'] = pd.cut(train['Age'], bins=bin, labels=group_names)\n",
        "train['AgeGroup'].value_counts()"
      ],
      "metadata": {
        "execution": {
          "iopub.status.busy": "2022-01-05T08:29:28.551203Z",
          "iopub.execute_input": "2022-01-05T08:29:28.551521Z",
          "iopub.status.idle": "2022-01-05T08:29:28.563730Z",
          "shell.execute_reply.started": "2022-01-05T08:29:28.551479Z",
          "shell.execute_reply": "2022-01-05T08:29:28.562917Z"
        },
        "trusted": true,
        "id": "yeu7aSHCeGuT",
        "colab": {
          "base_uri": "https://localhost:8080/"
        },
        "outputId": "b0cffc02-edae-495e-e483-fc8a2e4987f3"
      },
      "execution_count": 33,
      "outputs": [
        {
          "output_type": "execute_result",
          "data": {
            "text/plain": [
              "YoungAdult    373\n",
              "MiddleAged    195\n",
              "Youth         162\n",
              "Baby          139\n",
              "Senior         22\n",
              "Name: AgeGroup, dtype: int64"
            ]
          },
          "metadata": {},
          "execution_count": 33
        }
      ]
    },
    {
      "cell_type": "code",
      "source": [
        "sns.barplot(data=train,x='AgeGroup',y='Survived')"
      ],
      "metadata": {
        "execution": {
          "iopub.status.busy": "2022-01-05T08:29:28.565525Z",
          "iopub.execute_input": "2022-01-05T08:29:28.566043Z",
          "iopub.status.idle": "2022-01-05T08:29:28.875411Z",
          "shell.execute_reply.started": "2022-01-05T08:29:28.565996Z",
          "shell.execute_reply": "2022-01-05T08:29:28.874384Z"
        },
        "trusted": true,
        "id": "lBsaZ12neGuT",
        "colab": {
          "base_uri": "https://localhost:8080/",
          "height": 297
        },
        "outputId": "3ceeaedd-9468-44a2-ce3c-f4ada61e9a87"
      },
      "execution_count": 34,
      "outputs": [
        {
          "output_type": "execute_result",
          "data": {
            "text/plain": [
              "<matplotlib.axes._subplots.AxesSubplot at 0x7f36bb4a0910>"
            ]
          },
          "metadata": {},
          "execution_count": 34
        },
        {
          "output_type": "display_data",
          "data": {
            "image/png": "[encoded data removed]",
            "text/plain": [
              "<Figure size 432x288 with 1 Axes>"
            ]
          },
          "metadata": {
            "needs_background": "light"
          }
        }
      ]
    },
    {
      "cell_type": "code",
      "source": [
        "test['AgeGroup'] = pd.cut(test['Age'], bins=bin, labels=group_names)\n",
        "test['AgeGroup'].value_counts()"
      ],
      "metadata": {
        "execution": {
          "iopub.status.busy": "2022-01-05T08:29:28.877033Z",
          "iopub.execute_input": "2022-01-05T08:29:28.877791Z",
          "iopub.status.idle": "2022-01-05T08:29:28.888927Z",
          "shell.execute_reply.started": "2022-01-05T08:29:28.877729Z",
          "shell.execute_reply": "2022-01-05T08:29:28.888377Z"
        },
        "trusted": true,
        "id": "t8zAaQNYeGuU",
        "colab": {
          "base_uri": "https://localhost:8080/"
        },
        "outputId": "8f295038-fcf6-4699-f8a4-41bda44d58c4"
      },
      "execution_count": 35,
      "outputs": [
        {
          "output_type": "execute_result",
          "data": {
            "text/plain": [
              "YoungAdult    171\n",
              "MiddleAged     94\n",
              "Youth          88\n",
              "Baby           54\n",
              "Senior         11\n",
              "Name: AgeGroup, dtype: int64"
            ]
          },
          "metadata": {},
          "execution_count": 35
        }
      ]
    },
    {
      "cell_type": "code",
      "source": [
        "train = train.drop(columns = 'Age')\n",
        "test = test.drop(columns = 'Age')"
      ],
      "metadata": {
        "execution": {
          "iopub.status.busy": "2022-01-05T08:29:28.889886Z",
          "iopub.execute_input": "2022-01-05T08:29:28.890658Z",
          "iopub.status.idle": "2022-01-05T08:29:28.901974Z",
          "shell.execute_reply.started": "2022-01-05T08:29:28.890625Z",
          "shell.execute_reply": "2022-01-05T08:29:28.901271Z"
        },
        "trusted": true,
        "id": "8W9K5o2deGuV"
      },
      "execution_count": 36,
      "outputs": []
    },
    {
      "cell_type": "code",
      "source": [
        "# train['AgeGroup_1'] = (train['AgeGroup'] == 'Baby')\n",
        "# train['AgeGroup_2'] = (train['AgeGroup'] == 'Senior')\n",
        "\n",
        "# test['AgeGroup_1'] = (test['AgeGroup'] == 'Baby')\n",
        "# test['AgeGroup_2'] = (test['AgeGroup'] == 'Senior')\n",
        "\n",
        "train = train.drop(columns = 'AgeGroup')\n",
        "test = test.drop(columns = 'AgeGroup')"
      ],
      "metadata": {
        "execution": {
          "iopub.status.busy": "2022-01-05T08:29:28.903274Z",
          "iopub.execute_input": "2022-01-05T08:29:28.903700Z",
          "iopub.status.idle": "2022-01-05T08:29:28.914609Z",
          "shell.execute_reply.started": "2022-01-05T08:29:28.903670Z",
          "shell.execute_reply": "2022-01-05T08:29:28.913770Z"
        },
        "trusted": true,
        "id": "oqxePkq_eGuV"
      },
      "execution_count": 37,
      "outputs": []
    },
    {
      "cell_type": "code",
      "source": [
        "train['Embarked_1'] = (train['Embarked'] == 'S')\n",
        "train['Embarked_2'] = (train['Embarked'] == 'C')\n",
        "train['Embarked_3'] = (train['Embarked'] == 'Q')\n",
        "\n",
        "test['Embarked_1'] = (test['Embarked'] == 'S')\n",
        "test['Embarked_2'] = (test['Embarked'] == 'C')\n",
        "test['Embarked_3'] = (test['Embarked'] == 'Q')\n",
        "\n",
        "train = train.drop(columns = 'Embarked')\n",
        "test = test.drop(columns = 'Embarked')"
      ],
      "metadata": {
        "execution": {
          "iopub.status.busy": "2022-01-05T08:29:28.916018Z",
          "iopub.execute_input": "2022-01-05T08:29:28.916448Z",
          "iopub.status.idle": "2022-01-05T08:29:28.930956Z",
          "shell.execute_reply.started": "2022-01-05T08:29:28.916417Z",
          "shell.execute_reply": "2022-01-05T08:29:28.930087Z"
        },
        "trusted": true,
        "id": "P6EjCKM3eGuV"
      },
      "execution_count": 38,
      "outputs": []
    },
    {
      "cell_type": "code",
      "source": [
        "sns.barplot(data=train,x='Fare',y='Survived')"
      ],
      "metadata": {
        "execution": {
          "iopub.status.busy": "2022-01-05T08:29:28.932741Z",
          "iopub.execute_input": "2022-01-05T08:29:28.933420Z",
          "iopub.status.idle": "2022-01-05T08:29:36.022577Z",
          "shell.execute_reply.started": "2022-01-05T08:29:28.933373Z",
          "shell.execute_reply": "2022-01-05T08:29:36.021782Z"
        },
        "trusted": true,
        "id": "Ywhr1ML9eGuW",
        "colab": {
          "base_uri": "https://localhost:8080/",
          "height": 297
        },
        "outputId": "45109452-570e-4046-95e8-2232cec4effc"
      },
      "execution_count": 39,
      "outputs": [
        {
          "output_type": "execute_result",
          "data": {
            "text/plain": [
              "<matplotlib.axes._subplots.AxesSubplot at 0x7f36bb406710>"
            ]
          },
          "metadata": {},
          "execution_count": 39
        },
        {
          "output_type": "display_data",
          "data": {
            "image/png": "[encoded data removed]",
            "text/plain": [
              "<Figure size 432x288 with 1 Axes>"
            ]
          },
          "metadata": {
            "needs_background": "light"
          }
        }
      ]
    },
    {
      "cell_type": "code",
      "source": [
        "train = train.drop(columns = 'Fare')\n",
        "test = test.drop(columns = 'Fare')"
      ],
      "metadata": {
        "execution": {
          "iopub.status.busy": "2022-01-05T08:29:36.023913Z",
          "iopub.execute_input": "2022-01-05T08:29:36.024213Z",
          "iopub.status.idle": "2022-01-05T08:29:36.032151Z",
          "shell.execute_reply.started": "2022-01-05T08:29:36.024171Z",
          "shell.execute_reply": "2022-01-05T08:29:36.031230Z"
        },
        "trusted": true,
        "id": "0_v3OVRceGuX"
      },
      "execution_count": 40,
      "outputs": []
    },
    {
      "cell_type": "code",
      "source": [
        "train['Parch'].value_counts()"
      ],
      "metadata": {
        "execution": {
          "iopub.status.busy": "2022-01-05T08:29:36.033700Z",
          "iopub.execute_input": "2022-01-05T08:29:36.034000Z",
          "iopub.status.idle": "2022-01-05T08:29:36.049253Z",
          "shell.execute_reply.started": "2022-01-05T08:29:36.033962Z",
          "shell.execute_reply": "2022-01-05T08:29:36.048224Z"
        },
        "trusted": true,
        "id": "CaIrqn64eGuX",
        "colab": {
          "base_uri": "https://localhost:8080/"
        },
        "outputId": "0f999e77-5dd9-47e7-9013-ba5d6681d244"
      },
      "execution_count": 41,
      "outputs": [
        {
          "output_type": "execute_result",
          "data": {
            "text/plain": [
              "0    678\n",
              "1    118\n",
              "2     80\n",
              "5      5\n",
              "3      5\n",
              "4      4\n",
              "6      1\n",
              "Name: Parch, dtype: int64"
            ]
          },
          "metadata": {},
          "execution_count": 41
        }
      ]
    },
    {
      "cell_type": "code",
      "source": [
        "sns.barplot(data=train,x='Parch',y='Survived')"
      ],
      "metadata": {
        "execution": {
          "iopub.status.busy": "2022-01-05T08:29:36.051134Z",
          "iopub.execute_input": "2022-01-05T08:29:36.051428Z",
          "iopub.status.idle": "2022-01-05T08:29:36.418078Z",
          "shell.execute_reply.started": "2022-01-05T08:29:36.051393Z",
          "shell.execute_reply": "2022-01-05T08:29:36.417490Z"
        },
        "trusted": true,
        "id": "Xx3WPdVLeGuY",
        "colab": {
          "base_uri": "https://localhost:8080/",
          "height": 297
        },
        "outputId": "7bf1fce9-cf1e-49be-b076-63fc3d11681f"
      },
      "execution_count": 42,
      "outputs": [
        {
          "output_type": "execute_result",
          "data": {
            "text/plain": [
              "<matplotlib.axes._subplots.AxesSubplot at 0x7f36bab44c90>"
            ]
          },
          "metadata": {},
          "execution_count": 42
        },
        {
          "output_type": "display_data",
          "data": {
            "image/png": "[encoded data removed]",
            "text/plain": [
              "<Figure size 432x288 with 1 Axes>"
            ]
          },
          "metadata": {
            "needs_background": "light"
          }
        }
      ]
    },
    {
      "cell_type": "code",
      "source": [
        "train = train.drop(columns = 'Parch')\n",
        "test = test.drop(columns = 'Parch')"
      ],
      "metadata": {
        "execution": {
          "iopub.status.busy": "2022-01-05T08:29:36.421269Z",
          "iopub.execute_input": "2022-01-05T08:29:36.421868Z",
          "iopub.status.idle": "2022-01-05T08:29:36.429037Z",
          "shell.execute_reply.started": "2022-01-05T08:29:36.421828Z",
          "shell.execute_reply": "2022-01-05T08:29:36.427847Z"
        },
        "trusted": true,
        "id": "f6Bvyt0seGuZ"
      },
      "execution_count": 43,
      "outputs": []
    },
    {
      "cell_type": "code",
      "source": [
        "train['SibSp'].value_counts()"
      ],
      "metadata": {
        "execution": {
          "iopub.status.busy": "2022-01-05T08:29:36.432667Z",
          "iopub.execute_input": "2022-01-05T08:29:36.432910Z",
          "iopub.status.idle": "2022-01-05T08:29:36.444439Z",
          "shell.execute_reply.started": "2022-01-05T08:29:36.432878Z",
          "shell.execute_reply": "2022-01-05T08:29:36.443396Z"
        },
        "trusted": true,
        "id": "5kh3xidTeGuZ",
        "colab": {
          "base_uri": "https://localhost:8080/"
        },
        "outputId": "0edd71c7-867a-4b73-f093-53684d2b2a27"
      },
      "execution_count": 44,
      "outputs": [
        {
          "output_type": "execute_result",
          "data": {
            "text/plain": [
              "0    608\n",
              "1    209\n",
              "2     28\n",
              "4     18\n",
              "3     16\n",
              "8      7\n",
              "5      5\n",
              "Name: SibSp, dtype: int64"
            ]
          },
          "metadata": {},
          "execution_count": 44
        }
      ]
    },
    {
      "cell_type": "code",
      "source": [
        "sns.barplot(data=train,x='SibSp',y='Survived')"
      ],
      "metadata": {
        "execution": {
          "iopub.status.busy": "2022-01-05T08:29:36.446283Z",
          "iopub.execute_input": "2022-01-05T08:29:36.446610Z",
          "iopub.status.idle": "2022-01-05T08:29:36.814015Z",
          "shell.execute_reply.started": "2022-01-05T08:29:36.446561Z",
          "shell.execute_reply": "2022-01-05T08:29:36.813217Z"
        },
        "trusted": true,
        "id": "S1HleygEeGua",
        "colab": {
          "base_uri": "https://localhost:8080/",
          "height": 297
        },
        "outputId": "7746f40b-f56b-474e-98dc-bb8f970eebe8"
      },
      "execution_count": 45,
      "outputs": [
        {
          "output_type": "execute_result",
          "data": {
            "text/plain": [
              "<matplotlib.axes._subplots.AxesSubplot at 0x7f36bab06090>"
            ]
          },
          "metadata": {},
          "execution_count": 45
        },
        {
          "output_type": "display_data",
          "data": {
            "image/png": "[encoded data removed]",
            "text/plain": [
              "<Figure size 432x288 with 1 Axes>"
            ]
          },
          "metadata": {
            "needs_background": "light"
          }
        }
      ]
    },
    {
      "cell_type": "code",
      "source": [
        "# train['SibSp_0'] = (train['SibSp']==0)\n",
        "# train['SibSp_1'] = (train['SibSp']==1)\n",
        "# train['SibSp_2'] = (train['SibSp']==2)\n",
        "# train['SibSp_3'] = (train['SibSp']==3)\n",
        "# train['SibSp_4'] = (train['SibSp']==4)\n",
        "# train['SibSp_5'] = (train['SibSp']==5)\n",
        "# train['SibSp_8'] = (train['SibSp']==8)\n",
        "\n",
        "# test['SibSp_0'] = (test['SibSp']==0)\n",
        "# test['SibSp_1'] = (test['SibSp']==1)\n",
        "# test['SibSp_2'] = (test['SibSp']==2)\n",
        "# test['SibSp_3'] = (test['SibSp']==3)\n",
        "# test['SibSp_4'] = (test['SibSp']==4)\n",
        "# test['SibSp_5'] = (test['SibSp']==5)\n",
        "# test['SibSp_8'] = (test['SibSp']==8)\n",
        "\n",
        "train = train.drop(columns = 'SibSp')\n",
        "test = test.drop(columns = 'SibSp')"
      ],
      "metadata": {
        "execution": {
          "iopub.status.busy": "2022-01-05T08:29:36.815404Z",
          "iopub.execute_input": "2022-01-05T08:29:36.815851Z",
          "iopub.status.idle": "2022-01-05T08:29:36.823778Z",
          "shell.execute_reply.started": "2022-01-05T08:29:36.815811Z",
          "shell.execute_reply": "2022-01-05T08:29:36.822728Z"
        },
        "trusted": true,
        "id": "FEg3kqfReGua"
      },
      "execution_count": 46,
      "outputs": []
    },
    {
      "cell_type": "code",
      "source": [
        "train['Ticket'].unique()"
      ],
      "metadata": {
        "execution": {
          "iopub.status.busy": "2022-01-05T08:29:36.824995Z",
          "iopub.execute_input": "2022-01-05T08:29:36.825214Z",
          "iopub.status.idle": "2022-01-05T08:29:36.843618Z",
          "shell.execute_reply.started": "2022-01-05T08:29:36.825189Z",
          "shell.execute_reply": "2022-01-05T08:29:36.842975Z"
        },
        "trusted": true,
        "id": "tDwUzD8zeGua",
        "colab": {
          "base_uri": "https://localhost:8080/"
        },
        "outputId": "2dac1ed1-1d95-41a3-f685-f19ea649b26d"
      },
      "execution_count": 47,
      "outputs": [
        {
          "output_type": "execute_result",
          "data": {
            "text/plain": [
              "array(['A/5 21171', 'PC 17599', 'STON/O2. 3101282', '113803', '373450',\n",
              "       '330877', '17463', '349909', '347742', '237736', 'PP 9549',\n",
              "       '113783', 'A/5. 2151', '347082', '350406', '248706', '382652',\n",
              "       '244373', '345763', '2649', '239865', '248698', '330923', '113788',\n",
              "       '347077', '2631', '19950', '330959', '349216', 'PC 17601',\n",
              "       'PC 17569', '335677', 'C.A. 24579', 'PC 17604', '113789', '2677',\n",
              "       'A./5. 2152', '345764', '2651', '7546', '11668', '349253',\n",
              "       'SC/Paris 2123', '330958', 'S.C./A.4. 23567', '370371', '14311',\n",
              "       '2662', '349237', '3101295', 'A/4. 39886', 'PC 17572', '2926',\n",
              "       '113509', '19947', 'C.A. 31026', '2697', 'C.A. 34651', 'CA 2144',\n",
              "       '2669', '113572', '36973', '347088', 'PC 17605', '2661',\n",
              "       'C.A. 29395', 'S.P. 3464', '3101281', '315151', 'C.A. 33111',\n",
              "       'S.O.C. 14879', '2680', '1601', '348123', '349208', '374746',\n",
              "       '248738', '364516', '345767', '345779', '330932', '113059',\n",
              "       'SO/C 14885', '3101278', 'W./C. 6608', 'SOTON/OQ 392086', '343275',\n",
              "       '343276', '347466', 'W.E.P. 5734', 'C.A. 2315', '364500', '374910',\n",
              "       'PC 17754', 'PC 17759', '231919', '244367', '349245', '349215',\n",
              "       '35281', '7540', '3101276', '349207', '343120', '312991', '349249',\n",
              "       '371110', '110465', '2665', '324669', '4136', '2627',\n",
              "       'STON/O 2. 3101294', '370369', 'PC 17558', 'A4. 54510', '27267',\n",
              "       '370372', 'C 17369', '2668', '347061', '349241',\n",
              "       'SOTON/O.Q. 3101307', 'A/5. 3337', '228414', 'C.A. 29178',\n",
              "       'SC/PARIS 2133', '11752', '7534', 'PC 17593', '2678', '347081',\n",
              "       'STON/O2. 3101279', '365222', '231945', 'C.A. 33112', '350043',\n",
              "       '230080', '244310', 'S.O.P. 1166', '113776', 'A.5. 11206',\n",
              "       'A/5. 851', 'Fa 265302', 'PC 17597', '35851', 'SOTON/OQ 392090',\n",
              "       '315037', 'CA. 2343', '371362', 'C.A. 33595', '347068', '315093',\n",
              "       '363291', '113505', 'PC 17318', '111240', 'STON/O 2. 3101280',\n",
              "       '17764', '350404', '4133', 'PC 17595', '250653', 'LINE',\n",
              "       'SC/PARIS 2131', '230136', '315153', '113767', '370365', '111428',\n",
              "       '364849', '349247', '234604', '28424', '350046', 'PC 17610',\n",
              "       '368703', '4579', '370370', '248747', '345770', '3101264', '2628',\n",
              "       'A/5 3540', '347054', '2699', '367231', '112277',\n",
              "       'SOTON/O.Q. 3101311', 'F.C.C. 13528', 'A/5 21174', '250646',\n",
              "       '367229', '35273', 'STON/O2. 3101283', '243847', '11813',\n",
              "       'W/C 14208', 'SOTON/OQ 392089', '220367', '21440', '349234',\n",
              "       '19943', 'PP 4348', 'SW/PP 751', 'A/5 21173', '236171', '347067',\n",
              "       '237442', 'C.A. 29566', 'W./C. 6609', '26707', 'C.A. 31921',\n",
              "       '28665', 'SCO/W 1585', '367230', 'W./C. 14263',\n",
              "       'STON/O 2. 3101275', '2694', '19928', '347071', '250649', '11751',\n",
              "       '244252', '362316', '113514', 'A/5. 3336', '370129', '2650',\n",
              "       'PC 17585', '110152', 'PC 17755', '230433', '384461', '110413',\n",
              "       '112059', '382649', 'C.A. 17248', '347083', 'PC 17582', 'PC 17760',\n",
              "       '113798', '250644', 'PC 17596', '370375', '13502', '347073',\n",
              "       '239853', 'C.A. 2673', '336439', '347464', '345778', 'A/5. 10482',\n",
              "       '113056', '349239', '345774', '349206', '237798', '370373',\n",
              "       '19877', '11967', 'SC/Paris 2163', '349236', '349233', 'PC 17612',\n",
              "       '2693', '113781', '19988', '9234', '367226', '226593', 'A/5 2466',\n",
              "       '17421', 'PC 17758', 'P/PP 3381', 'PC 17485', '11767', 'PC 17608',\n",
              "       '250651', '349243', 'F.C.C. 13529', '347470', '29011', '36928',\n",
              "       '16966', 'A/5 21172', '349219', '234818', '345364', '28551',\n",
              "       '111361', '113043', 'PC 17611', '349225', '7598', '113784',\n",
              "       '248740', '244361', '229236', '248733', '31418', '386525',\n",
              "       'C.A. 37671', '315088', '7267', '113510', '2695', '2647', '345783',\n",
              "       '237671', '330931', '330980', 'SC/PARIS 2167', '2691',\n",
              "       'SOTON/O.Q. 3101310', 'C 7076', '110813', '2626', '14313',\n",
              "       'PC 17477', '11765', '3101267', '323951', 'C 7077', '113503',\n",
              "       '2648', '347069', 'PC 17757', '2653', 'STON/O 2. 3101293',\n",
              "       '349227', '27849', '367655', 'SC 1748', '113760', '350034',\n",
              "       '3101277', '350052', '350407', '28403', '244278', '240929',\n",
              "       'STON/O 2. 3101289', '341826', '4137', '315096', '28664', '347064',\n",
              "       '29106', '312992', '349222', '394140', 'STON/O 2. 3101269',\n",
              "       '343095', '28220', '250652', '28228', '345773', '349254',\n",
              "       'A/5. 13032', '315082', '347080', 'A/4. 34244', '2003', '250655',\n",
              "       '364851', 'SOTON/O.Q. 392078', '110564', '376564', 'SC/AH 3085',\n",
              "       'STON/O 2. 3101274', '13507', 'C.A. 18723', '345769', '347076',\n",
              "       '230434', '65306', '33638', '113794', '2666', '113786', '65303',\n",
              "       '113051', '17453', 'A/5 2817', '349240', '13509', '17464',\n",
              "       'F.C.C. 13531', '371060', '19952', '364506', '111320', '234360',\n",
              "       'A/S 2816', 'SOTON/O.Q. 3101306', '113792', '36209', '323592',\n",
              "       '315089', 'SC/AH Basle 541', '7553', '31027', '3460', '350060',\n",
              "       '3101298', '239854', 'A/5 3594', '4134', '11771', 'A.5. 18509',\n",
              "       '65304', 'SOTON/OQ 3101317', '113787', 'PC 17609', 'A/4 45380',\n",
              "       '36947', 'C.A. 6212', '350035', '315086', '364846', '330909',\n",
              "       '4135', '26360', '111427', 'C 4001', '382651', 'SOTON/OQ 3101316',\n",
              "       'PC 17473', 'PC 17603', '349209', '36967', 'C.A. 34260', '226875',\n",
              "       '349242', '12749', '349252', '2624', '2700', '367232',\n",
              "       'W./C. 14258', 'PC 17483', '3101296', '29104', '2641', '2690',\n",
              "       '315084', '113050', 'PC 17761', '364498', '13568', 'WE/P 5735',\n",
              "       '2908', '693', 'SC/PARIS 2146', '244358', '330979', '2620',\n",
              "       '347085', '113807', '11755', '345572', '372622', '349251',\n",
              "       '218629', 'SOTON/OQ 392082', 'SOTON/O.Q. 392087', 'A/4 48871',\n",
              "       '349205', '2686', '350417', 'S.W./PP 752', '11769', 'PC 17474',\n",
              "       '14312', 'A/4. 20589', '358585', '243880', '2689',\n",
              "       'STON/O 2. 3101286', '237789', '13049', '3411', '237565', '13567',\n",
              "       '14973', 'A./5. 3235', 'STON/O 2. 3101273', 'A/5 3902', '364848',\n",
              "       'SC/AH 29037', '248727', '2664', '349214', '113796', '364511',\n",
              "       '111426', '349910', '349246', '113804', 'SOTON/O.Q. 3101305',\n",
              "       '370377', '364512', '220845', '31028', '2659', '11753', '350029',\n",
              "       '54636', '36963', '219533', '349224', '334912', '27042', '347743',\n",
              "       '13214', '112052', '237668', 'STON/O 2. 3101292', '350050',\n",
              "       '349231', '13213', 'S.O./P.P. 751', 'CA. 2314', '349221', '8475',\n",
              "       '330919', '365226', '349223', '29751', '2623', '5727', '349210',\n",
              "       'STON/O 2. 3101285', '234686', '312993', 'A/5 3536', '19996',\n",
              "       '29750', 'F.C. 12750', 'C.A. 24580', '244270', '239856', '349912',\n",
              "       '342826', '4138', '330935', '6563', '349228', '350036', '24160',\n",
              "       '17474', '349256', '2672', '113800', '248731', '363592', '35852',\n",
              "       '348121', 'PC 17475', '36864', '350025', '223596', 'PC 17476',\n",
              "       'PC 17482', '113028', '7545', '250647', '348124', '34218', '36568',\n",
              "       '347062', '350048', '12233', '250643', '113806', '315094', '36866',\n",
              "       '236853', 'STON/O2. 3101271', '239855', '28425', '233639',\n",
              "       '349201', '349218', '16988', '376566', 'STON/O 2. 3101288',\n",
              "       '250648', '113773', '335097', '29103', '392096', '345780',\n",
              "       '349204', '350042', '29108', '363294', 'SOTON/O2 3101272', '2663',\n",
              "       '347074', '112379', '364850', '8471', '345781', '350047',\n",
              "       'S.O./P.P. 3', '2674', '29105', '347078', '383121', '36865',\n",
              "       '2687', '113501', 'W./C. 6607', 'SOTON/O.Q. 3101312', '374887',\n",
              "       '3101265', '12460', 'PC 17600', '349203', '28213', '17465',\n",
              "       '349244', '2685', '2625', '347089', '347063', '112050', '347087',\n",
              "       '248723', '3474', '28206', '364499', '112058', 'STON/O2. 3101290',\n",
              "       'S.C./PARIS 2079', 'C 7075', '315098', '19972', '368323', '367228',\n",
              "       '2671', '347468', '2223', 'PC 17756', '315097', '392092', '11774',\n",
              "       'SOTON/O2 3101287', '2683', '315090', 'C.A. 5547', '349213',\n",
              "       '347060', 'PC 17592', '392091', '113055', '2629', '350026',\n",
              "       '28134', '17466', '233866', '236852', 'SC/PARIS 2149', 'PC 17590',\n",
              "       '345777', '349248', '695', '345765', '2667', '349212', '349217',\n",
              "       '349257', '7552', 'C.A./SOTON 34068', 'SOTON/OQ 392076', '211536',\n",
              "       '112053', '111369', '370376'], dtype=object)"
            ]
          },
          "metadata": {},
          "execution_count": 47
        }
      ]
    },
    {
      "cell_type": "code",
      "source": [
        "train = train.drop(columns = 'Ticket')\n",
        "test = test.drop(columns = 'Ticket')"
      ],
      "metadata": {
        "execution": {
          "iopub.status.busy": "2022-01-05T08:29:36.844582Z",
          "iopub.execute_input": "2022-01-05T08:29:36.845255Z",
          "iopub.status.idle": "2022-01-05T08:29:36.853961Z",
          "shell.execute_reply.started": "2022-01-05T08:29:36.845212Z",
          "shell.execute_reply": "2022-01-05T08:29:36.853376Z"
        },
        "trusted": true,
        "id": "ks6wO_qEeGub"
      },
      "execution_count": 48,
      "outputs": []
    },
    {
      "cell_type": "code",
      "source": [
        "train.head()"
      ],
      "metadata": {
        "execution": {
          "iopub.status.busy": "2022-01-05T08:29:36.854995Z",
          "iopub.execute_input": "2022-01-05T08:29:36.855732Z",
          "iopub.status.idle": "2022-01-05T08:29:36.874969Z",
          "shell.execute_reply.started": "2022-01-05T08:29:36.855690Z",
          "shell.execute_reply": "2022-01-05T08:29:36.874012Z"
        },
        "trusted": true,
        "id": "PCNw7nZ2eGub",
        "colab": {
          "base_uri": "https://localhost:8080/",
          "height": 206
        },
        "outputId": "e3cb2b7c-c9dd-4644-a17e-980c3bd52e7e"
      },
      "execution_count": 49,
      "outputs": [
        {
          "output_type": "execute_result",
          "data": {
            "text/html": [
              "\n",
              "  <div id=\"df-98dfeee5-0075-42f0-8904-3ffb34924cce\">\n",
              "    <div class=\"colab-df-container\">\n",
              "      <div>\n",
              "<style scoped>\n",
              "    .dataframe tbody tr th:only-of-type {\n",
              "        vertical-align: middle;\n",
              "    }\n",
              "\n",
              "    .dataframe tbody tr th {\n",
              "        vertical-align: top;\n",
              "    }\n",
              "\n",
              "    .dataframe thead th {\n",
              "        text-align: right;\n",
              "    }\n",
              "</style>\n",
              "<table border=\"1\" class=\"dataframe\">\n",
              "  <thead>\n",
              "    <tr style=\"text-align: right;\">\n",
              "      <th></th>\n",
              "      <th>Survived</th>\n",
              "      <th>Pclass_1</th>\n",
              "      <th>Pclass_2</th>\n",
              "      <th>Pclass_3</th>\n",
              "      <th>Title_1</th>\n",
              "      <th>Title_2</th>\n",
              "      <th>Title_3</th>\n",
              "      <th>Title_4</th>\n",
              "      <th>Title_5</th>\n",
              "      <th>Title_6</th>\n",
              "      <th>male</th>\n",
              "      <th>Embarked_1</th>\n",
              "      <th>Embarked_2</th>\n",
              "      <th>Embarked_3</th>\n",
              "    </tr>\n",
              "  </thead>\n",
              "  <tbody>\n",
              "    <tr>\n",
              "      <th>0</th>\n",
              "      <td>0</td>\n",
              "      <td>False</td>\n",
              "      <td>False</td>\n",
              "      <td>True</td>\n",
              "      <td>False</td>\n",
              "      <td>False</td>\n",
              "      <td>False</td>\n",
              "      <td>False</td>\n",
              "      <td>False</td>\n",
              "      <td>True</td>\n",
              "      <td>True</td>\n",
              "      <td>True</td>\n",
              "      <td>False</td>\n",
              "      <td>False</td>\n",
              "    </tr>\n",
              "    <tr>\n",
              "      <th>1</th>\n",
              "      <td>1</td>\n",
              "      <td>True</td>\n",
              "      <td>False</td>\n",
              "      <td>False</td>\n",
              "      <td>False</td>\n",
              "      <td>False</td>\n",
              "      <td>False</td>\n",
              "      <td>True</td>\n",
              "      <td>False</td>\n",
              "      <td>False</td>\n",
              "      <td>False</td>\n",
              "      <td>False</td>\n",
              "      <td>True</td>\n",
              "      <td>False</td>\n",
              "    </tr>\n",
              "    <tr>\n",
              "      <th>2</th>\n",
              "      <td>1</td>\n",
              "      <td>False</td>\n",
              "      <td>False</td>\n",
              "      <td>True</td>\n",
              "      <td>False</td>\n",
              "      <td>False</td>\n",
              "      <td>False</td>\n",
              "      <td>False</td>\n",
              "      <td>True</td>\n",
              "      <td>False</td>\n",
              "      <td>False</td>\n",
              "      <td>True</td>\n",
              "      <td>False</td>\n",
              "      <td>False</td>\n",
              "    </tr>\n",
              "    <tr>\n",
              "      <th>3</th>\n",
              "      <td>1</td>\n",
              "      <td>True</td>\n",
              "      <td>False</td>\n",
              "      <td>False</td>\n",
              "      <td>False</td>\n",
              "      <td>False</td>\n",
              "      <td>False</td>\n",
              "      <td>True</td>\n",
              "      <td>False</td>\n",
              "      <td>False</td>\n",
              "      <td>False</td>\n",
              "      <td>True</td>\n",
              "      <td>False</td>\n",
              "      <td>False</td>\n",
              "    </tr>\n",
              "    <tr>\n",
              "      <th>4</th>\n",
              "      <td>0</td>\n",
              "      <td>False</td>\n",
              "      <td>False</td>\n",
              "      <td>True</td>\n",
              "      <td>False</td>\n",
              "      <td>False</td>\n",
              "      <td>False</td>\n",
              "      <td>False</td>\n",
              "      <td>False</td>\n",
              "      <td>True</td>\n",
              "      <td>True</td>\n",
              "      <td>True</td>\n",
              "      <td>False</td>\n",
              "      <td>False</td>\n",
              "    </tr>\n",
              "  </tbody>\n",
              "</table>\n",
              "</div>\n",
              "      <button class=\"colab-df-convert\" onclick=\"convertToInteractive('df-98dfeee5-0075-42f0-8904-3ffb34924cce')\"\n",
              "              title=\"Convert this dataframe to an interactive table.\"\n",
              "              style=\"display:none;\">\n",
              "        \n",
              "  <svg xmlns=\"http://www.w3.org/2000/svg\" height=\"24px\"viewBox=\"0 0 24 24\"\n",
              "       width=\"24px\">\n",
              "    <path d=\"M0 0h24v24H0V0z\" fill=\"none\"/>\n",
              "    <path d=\"M18.56 5.44l.94 2.06.94-2.06 2.06-.94-2.06-.94-.94-2.06-.94 2.06-2.06.94zm-11 1L8.5 8.5l.94-2.06 2.06-.94-2.06-.94L8.5 2.5l-.94 2.06-2.06.94zm10 10l.94 2.06.94-2.06 2.06-.94-2.06-.94-.94-2.06-.94 2.06-2.06.94z\"/><path d=\"M17.41 7.96l-1.37-1.37c-.4-.4-.92-.59-1.43-.59-.52 0-1.04.2-1.43.59L10.3 9.45l-7.72 7.72c-.78.78-.78 2.05 0 2.83L4 21.41c.39.39.9.59 1.41.59.51 0 1.02-.2 1.41-.59l7.78-7.78 2.81-2.81c.8-.78.8-2.07 0-2.86zM5.41 20L4 18.59l7.72-7.72 1.47 1.35L5.41 20z\"/>\n",
              "  </svg>\n",
              "      </button>\n",
              "      \n",
              "  <style>\n",
              "    .colab-df-container {\n",
              "      display:flex;\n",
              "      flex-wrap:wrap;\n",
              "      gap: 12px;\n",
              "    }\n",
              "\n",
              "    .colab-df-convert {\n",
              "      background-color: #E8F0FE;\n",
              "      border: none;\n",
              "      border-radius: 50%;\n",
              "      cursor: pointer;\n",
              "      display: none;\n",
              "      fill: #1967D2;\n",
              "      height: 32px;\n",
              "      padding: 0 0 0 0;\n",
              "      width: 32px;\n",
              "    }\n",
              "\n",
              "    .colab-df-convert:hover {\n",
              "      background-color: #E2EBFA;\n",
              "      box-shadow: 0px 1px 2px rgba(60, 64, 67, 0.3), 0px 1px 3px 1px rgba(60, 64, 67, 0.15);\n",
              "      fill: #174EA6;\n",
              "    }\n",
              "\n",
              "    [theme=dark] .colab-df-convert {\n",
              "      background-color: #3B4455;\n",
              "      fill: #D2E3FC;\n",
              "    }\n",
              "\n",
              "    [theme=dark] .colab-df-convert:hover {\n",
              "      background-color: #434B5C;\n",
              "      box-shadow: 0px 1px 3px 1px rgba(0, 0, 0, 0.15);\n",
              "      filter: drop-shadow(0px 1px 2px rgba(0, 0, 0, 0.3));\n",
              "      fill: #FFFFFF;\n",
              "    }\n",
              "  </style>\n",
              "\n",
              "      <script>\n",
              "        const buttonEl =\n",
              "          document.querySelector('#df-98dfeee5-0075-42f0-8904-3ffb34924cce button.colab-df-convert');\n",
              "        buttonEl.style.display =\n",
              "          google.colab.kernel.accessAllowed ? 'block' : 'none';\n",
              "\n",
              "        async function convertToInteractive(key) {\n",
              "          const element = document.querySelector('#df-98dfeee5-0075-42f0-8904-3ffb34924cce');\n",
              "          const dataTable =\n",
              "            await google.colab.kernel.invokeFunction('convertToInteractive',\n",
              "                                                     [key], {});\n",
              "          if (!dataTable) return;\n",
              "\n",
              "          const docLinkHtml = 'Like what you see? Visit the ' +\n",
              "            '<a target=\"_blank\" href=https://colab.research.google.com/notebooks/data_table.ipynb>data table notebook</a>'\n",
              "            + ' to learn more about interactive tables.';\n",
              "          element.innerHTML = '';\n",
              "          dataTable['output_type'] = 'display_data';\n",
              "          await google.colab.output.renderOutput(dataTable, element);\n",
              "          const docLink = document.createElement('div');\n",
              "          docLink.innerHTML = docLinkHtml;\n",
              "          element.appendChild(docLink);\n",
              "        }\n",
              "      </script>\n",
              "    </div>\n",
              "  </div>\n",
              "  "
            ],
            "text/plain": [
              "   Survived  Pclass_1  Pclass_2  ...  Embarked_1  Embarked_2  Embarked_3\n",
              "0         0     False     False  ...        True       False       False\n",
              "1         1      True     False  ...       False        True       False\n",
              "2         1     False     False  ...        True       False       False\n",
              "3         1      True     False  ...        True       False       False\n",
              "4         0     False     False  ...        True       False       False\n",
              "\n",
              "[5 rows x 14 columns]"
            ]
          },
          "metadata": {},
          "execution_count": 49
        }
      ]
    },
    {
      "cell_type": "code",
      "source": [
        "Y_train=train['Survived']\n",
        "X_train=train[list(test)]\n",
        "X_test=test[list(test)]\n",
        "\n",
        "print(X_train.shape, Y_train.shape, X_test.shape)"
      ],
      "metadata": {
        "execution": {
          "iopub.status.busy": "2022-01-05T08:29:36.876254Z",
          "iopub.execute_input": "2022-01-05T08:29:36.876716Z",
          "iopub.status.idle": "2022-01-05T08:29:36.885543Z",
          "shell.execute_reply.started": "2022-01-05T08:29:36.876672Z",
          "shell.execute_reply": "2022-01-05T08:29:36.884674Z"
        },
        "trusted": true,
        "id": "78Oo1JAFeGuc",
        "colab": {
          "base_uri": "https://localhost:8080/"
        },
        "outputId": "52bc9228-7e2f-4c91-9cb0-3fb946bc1483"
      },
      "execution_count": 50,
      "outputs": [
        {
          "output_type": "stream",
          "name": "stdout",
          "text": [
            "(891, 13) (891,) (418, 13)\n"
          ]
        }
      ]
    },
    {
      "cell_type": "code",
      "source": [
        "test.isnull().sum()"
      ],
      "metadata": {
        "execution": {
          "iopub.status.busy": "2022-01-05T08:29:36.887171Z",
          "iopub.execute_input": "2022-01-05T08:29:36.887789Z",
          "iopub.status.idle": "2022-01-05T08:29:36.904038Z",
          "shell.execute_reply.started": "2022-01-05T08:29:36.887747Z",
          "shell.execute_reply": "2022-01-05T08:29:36.903067Z"
        },
        "trusted": true,
        "id": "ecjQQf9jeGud",
        "colab": {
          "base_uri": "https://localhost:8080/"
        },
        "outputId": "3fc0f16a-ba65-42c0-adfa-ada8cae13ec1"
      },
      "execution_count": 51,
      "outputs": [
        {
          "output_type": "execute_result",
          "data": {
            "text/plain": [
              "Pclass_1      0\n",
              "Pclass_2      0\n",
              "Pclass_3      0\n",
              "Title_1       0\n",
              "Title_2       0\n",
              "Title_3       0\n",
              "Title_4       0\n",
              "Title_5       0\n",
              "Title_6       0\n",
              "male          0\n",
              "Embarked_1    0\n",
              "Embarked_2    0\n",
              "Embarked_3    0\n",
              "dtype: int64"
            ]
          },
          "metadata": {},
          "execution_count": 51
        }
      ]
    },
    {
      "cell_type": "code",
      "source": [
        "from sklearn.tree import DecisionTreeClassifier\n",
        "\n",
        "model = DecisionTreeClassifier(max_depth=10, random_state=1)\n",
        "model.fit(X_train, Y_train)\n",
        "submission['Survived'] = model.predict(X_test)\n",
        "submission.to_csv('./titanic_submission.csv', index = False)\n",
        "submission"
      ],
      "metadata": {
        "execution": {
          "iopub.status.busy": "2022-01-05T08:29:36.905311Z",
          "iopub.execute_input": "2022-01-05T08:29:36.906060Z",
          "iopub.status.idle": "2022-01-05T08:29:36.926282Z",
          "shell.execute_reply.started": "2022-01-05T08:29:36.906013Z",
          "shell.execute_reply": "2022-01-05T08:29:36.924953Z"
        },
        "trusted": true,
        "id": "xsz_lUOceGud",
        "colab": {
          "base_uri": "https://localhost:8080/",
          "height": 423
        },
        "outputId": "79afebc6-8358-45ba-eccb-f09aa5d576a6"
      },
      "execution_count": 52,
      "outputs": [
        {
          "output_type": "execute_result",
          "data": {
            "text/html": [
              "\n",
              "  <div id=\"df-9d519821-70ad-49ea-9945-929aa33da9a4\">\n",
              "    <div class=\"colab-df-container\">\n",
              "      <div>\n",
              "<style scoped>\n",
              "    .dataframe tbody tr th:only-of-type {\n",
              "        vertical-align: middle;\n",
              "    }\n",
              "\n",
              "    .dataframe tbody tr th {\n",
              "        vertical-align: top;\n",
              "    }\n",
              "\n",
              "    .dataframe thead th {\n",
              "        text-align: right;\n",
              "    }\n",
              "</style>\n",
              "<table border=\"1\" class=\"dataframe\">\n",
              "  <thead>\n",
              "    <tr style=\"text-align: right;\">\n",
              "      <th></th>\n",
              "      <th>PassengerId</th>\n",
              "      <th>Survived</th>\n",
              "    </tr>\n",
              "  </thead>\n",
              "  <tbody>\n",
              "    <tr>\n",
              "      <th>0</th>\n",
              "      <td>892</td>\n",
              "      <td>0</td>\n",
              "    </tr>\n",
              "    <tr>\n",
              "      <th>1</th>\n",
              "      <td>893</td>\n",
              "      <td>0</td>\n",
              "    </tr>\n",
              "    <tr>\n",
              "      <th>2</th>\n",
              "      <td>894</td>\n",
              "      <td>0</td>\n",
              "    </tr>\n",
              "    <tr>\n",
              "      <th>3</th>\n",
              "      <td>895</td>\n",
              "      <td>0</td>\n",
              "    </tr>\n",
              "    <tr>\n",
              "      <th>4</th>\n",
              "      <td>896</td>\n",
              "      <td>0</td>\n",
              "    </tr>\n",
              "    <tr>\n",
              "      <th>...</th>\n",
              "      <td>...</td>\n",
              "      <td>...</td>\n",
              "    </tr>\n",
              "    <tr>\n",
              "      <th>413</th>\n",
              "      <td>1305</td>\n",
              "      <td>0</td>\n",
              "    </tr>\n",
              "    <tr>\n",
              "      <th>414</th>\n",
              "      <td>1306</td>\n",
              "      <td>1</td>\n",
              "    </tr>\n",
              "    <tr>\n",
              "      <th>415</th>\n",
              "      <td>1307</td>\n",
              "      <td>0</td>\n",
              "    </tr>\n",
              "    <tr>\n",
              "      <th>416</th>\n",
              "      <td>1308</td>\n",
              "      <td>0</td>\n",
              "    </tr>\n",
              "    <tr>\n",
              "      <th>417</th>\n",
              "      <td>1309</td>\n",
              "      <td>1</td>\n",
              "    </tr>\n",
              "  </tbody>\n",
              "</table>\n",
              "<p>418 rows × 2 columns</p>\n",
              "</div>\n",
              "      <button class=\"colab-df-convert\" onclick=\"convertToInteractive('df-9d519821-70ad-49ea-9945-929aa33da9a4')\"\n",
              "              title=\"Convert this dataframe to an interactive table.\"\n",
              "              style=\"display:none;\">\n",
              "        \n",
              "  <svg xmlns=\"http://www.w3.org/2000/svg\" height=\"24px\"viewBox=\"0 0 24 24\"\n",
              "       width=\"24px\">\n",
              "    <path d=\"M0 0h24v24H0V0z\" fill=\"none\"/>\n",
              "    <path d=\"M18.56 5.44l.94 2.06.94-2.06 2.06-.94-2.06-.94-.94-2.06-.94 2.06-2.06.94zm-11 1L8.5 8.5l.94-2.06 2.06-.94-2.06-.94L8.5 2.5l-.94 2.06-2.06.94zm10 10l.94 2.06.94-2.06 2.06-.94-2.06-.94-.94-2.06-.94 2.06-2.06.94z\"/><path d=\"M17.41 7.96l-1.37-1.37c-.4-.4-.92-.59-1.43-.59-.52 0-1.04.2-1.43.59L10.3 9.45l-7.72 7.72c-.78.78-.78 2.05 0 2.83L4 21.41c.39.39.9.59 1.41.59.51 0 1.02-.2 1.41-.59l7.78-7.78 2.81-2.81c.8-.78.8-2.07 0-2.86zM5.41 20L4 18.59l7.72-7.72 1.47 1.35L5.41 20z\"/>\n",
              "  </svg>\n",
              "      </button>\n",
              "      \n",
              "  <style>\n",
              "    .colab-df-container {\n",
              "      display:flex;\n",
              "      flex-wrap:wrap;\n",
              "      gap: 12px;\n",
              "    }\n",
              "\n",
              "    .colab-df-convert {\n",
              "      background-color: #E8F0FE;\n",
              "      border: none;\n",
              "      border-radius: 50%;\n",
              "      cursor: pointer;\n",
              "      display: none;\n",
              "      fill: #1967D2;\n",
              "      height: 32px;\n",
              "      padding: 0 0 0 0;\n",
              "      width: 32px;\n",
              "    }\n",
              "\n",
              "    .colab-df-convert:hover {\n",
              "      background-color: #E2EBFA;\n",
              "      box-shadow: 0px 1px 2px rgba(60, 64, 67, 0.3), 0px 1px 3px 1px rgba(60, 64, 67, 0.15);\n",
              "      fill: #174EA6;\n",
              "    }\n",
              "\n",
              "    [theme=dark] .colab-df-convert {\n",
              "      background-color: #3B4455;\n",
              "      fill: #D2E3FC;\n",
              "    }\n",
              "\n",
              "    [theme=dark] .colab-df-convert:hover {\n",
              "      background-color: #434B5C;\n",
              "      box-shadow: 0px 1px 3px 1px rgba(0, 0, 0, 0.15);\n",
              "      filter: drop-shadow(0px 1px 2px rgba(0, 0, 0, 0.3));\n",
              "      fill: #FFFFFF;\n",
              "    }\n",
              "  </style>\n",
              "\n",
              "      <script>\n",
              "        const buttonEl =\n",
              "          document.querySelector('#df-9d519821-70ad-49ea-9945-929aa33da9a4 button.colab-df-convert');\n",
              "        buttonEl.style.display =\n",
              "          google.colab.kernel.accessAllowed ? 'block' : 'none';\n",
              "\n",
              "        async function convertToInteractive(key) {\n",
              "          const element = document.querySelector('#df-9d519821-70ad-49ea-9945-929aa33da9a4');\n",
              "          const dataTable =\n",
              "            await google.colab.kernel.invokeFunction('convertToInteractive',\n",
              "                                                     [key], {});\n",
              "          if (!dataTable) return;\n",
              "\n",
              "          const docLinkHtml = 'Like what you see? Visit the ' +\n",
              "            '<a target=\"_blank\" href=https://colab.research.google.com/notebooks/data_table.ipynb>data table notebook</a>'\n",
              "            + ' to learn more about interactive tables.';\n",
              "          element.innerHTML = '';\n",
              "          dataTable['output_type'] = 'display_data';\n",
              "          await google.colab.output.renderOutput(dataTable, element);\n",
              "          const docLink = document.createElement('div');\n",
              "          docLink.innerHTML = docLinkHtml;\n",
              "          element.appendChild(docLink);\n",
              "        }\n",
              "      </script>\n",
              "    </div>\n",
              "  </div>\n",
              "  "
            ],
            "text/plain": [
              "     PassengerId  Survived\n",
              "0            892         0\n",
              "1            893         0\n",
              "2            894         0\n",
              "3            895         0\n",
              "4            896         0\n",
              "..           ...       ...\n",
              "413         1305         0\n",
              "414         1306         1\n",
              "415         1307         0\n",
              "416         1308         0\n",
              "417         1309         1\n",
              "\n",
              "[418 rows x 2 columns]"
            ]
          },
          "metadata": {},
          "execution_count": 52
        }
      ]
    }
  ]
}