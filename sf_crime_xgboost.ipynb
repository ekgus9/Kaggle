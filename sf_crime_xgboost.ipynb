{
  "nbformat": 4,
  "nbformat_minor": 0,
  "metadata": {
    "colab": {
      "name": "sf-crime_xgboost.ipynb",
      "provenance": [],
      "authorship_tag": "ABX9TyNtALIRBkiYUwZmwFrWhmz8"
    },
    "kernelspec": {
      "name": "python3",
      "display_name": "Python 3"
    },
    "language_info": {
      "name": "python"
    }
  },
  "cells": [
    {
      "cell_type": "code",
      "source": [
        "# 캐글과 연동\n",
        "!pip install kaggle\n",
        "from google.colab import files\n",
        "files.upload()"
      ],
      "metadata": {
        "colab": {
          "resources": {
            "http://localhost:8080/nbextensions/google.colab/files.js": {
              "data": "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",
              "ok": true,
              "headers": [
                [
                  "content-type",
                  "application/javascript"
                ]
              ],
              "status": 200,
              "status_text": ""
            }
          },
          "base_uri": "https://localhost:8080/",
          "height": 314
        },
        "id": "BByRhCnp6PTw",
        "outputId": "73ecffe1-de05-4519-f3ce-c2bfaeb17ad7"
      },
      "execution_count": 100,
      "outputs": [
        {
          "output_type": "stream",
          "name": "stdout",
          "text": [
            "Requirement already satisfied: kaggle in /usr/local/lib/python3.7/dist-packages (1.5.12)\n",
            "Requirement already satisfied: certifi in /usr/local/lib/python3.7/dist-packages (from kaggle) (2021.10.8)\n",
            "Requirement already satisfied: python-dateutil in /usr/local/lib/python3.7/dist-packages (from kaggle) (2.8.2)\n",
            "Requirement already satisfied: python-slugify in /usr/local/lib/python3.7/dist-packages (from kaggle) (5.0.2)\n",
            "Requirement already satisfied: tqdm in /usr/local/lib/python3.7/dist-packages (from kaggle) (4.62.3)\n",
            "Requirement already satisfied: requests in /usr/local/lib/python3.7/dist-packages (from kaggle) (2.23.0)\n",
            "Requirement already satisfied: urllib3 in /usr/local/lib/python3.7/dist-packages (from kaggle) (1.24.3)\n",
            "Requirement already satisfied: six>=1.10 in /usr/local/lib/python3.7/dist-packages (from kaggle) (1.15.0)\n",
            "Requirement already satisfied: text-unidecode>=1.3 in /usr/local/lib/python3.7/dist-packages (from python-slugify->kaggle) (1.3)\n",
            "Requirement already satisfied: chardet<4,>=3.0.2 in /usr/local/lib/python3.7/dist-packages (from requests->kaggle) (3.0.4)\n",
            "Requirement already satisfied: idna<3,>=2.5 in /usr/local/lib/python3.7/dist-packages (from requests->kaggle) (2.10)\n"
          ]
        },
        {
          "output_type": "display_data",
          "data": {
            "text/html": [
              "\n",
              "     <input type=\"file\" id=\"files-0c2bbd4e-9785-4c3e-9d04-e02c0175b345\" name=\"files[]\" multiple disabled\n",
              "        style=\"border:none\" />\n",
              "     <output id=\"result-0c2bbd4e-9785-4c3e-9d04-e02c0175b345\">\n",
              "      Upload widget is only available when the cell has been executed in the\n",
              "      current browser session. Please rerun this cell to enable.\n",
              "      </output>\n",
              "      <script src=\"/nbextensions/google.colab/files.js\"></script> "
            ],
            "text/plain": [
              "<IPython.core.display.HTML object>"
            ]
          },
          "metadata": {}
        },
        {
          "output_type": "stream",
          "name": "stdout",
          "text": [
            "Saving kaggle.json to kaggle.json\n"
          ]
        },
        {
          "output_type": "execute_result",
          "data": {
            "text/plain": [
              "{'kaggle.json': b'{\"username\":\"ekgus9\",\"key\":\"e87e42ec6bf155bd3ad4d10dc4e5039c\"}'}"
            ]
          },
          "metadata": {},
          "execution_count": 100
        }
      ]
    },
    {
      "cell_type": "code",
      "source": [
        "!mkdir -p ~/.kaggle\n",
        "!mv kaggle.json ~/.kaggle/\n",
        "!chmod 600 ~/.kaggle/kaggle.json"
      ],
      "metadata": {
        "id": "9hxK-bik6Pna"
      },
      "execution_count": 101,
      "outputs": []
    },
    {
      "cell_type": "code",
      "source": [
        "!kaggle competitions download -c sf-crime\n",
        "#!unzip train.zip"
      ],
      "metadata": {
        "colab": {
          "base_uri": "https://localhost:8080/"
        },
        "id": "5-Q6QXe26Pv3",
        "outputId": "b35f9dd9-2440-4b4a-f8dc-2e4214d561fb"
      },
      "execution_count": 102,
      "outputs": [
        {
          "output_type": "stream",
          "name": "stdout",
          "text": [
            "Warning: Looks like you're using an outdated API Version, please consider updating (server 1.5.12 / client 1.5.4)\n",
            "Downloading sampleSubmission.csv.zip to /content\n",
            "  0% 0.00/2.35M [00:00<?, ?B/s]\n",
            "100% 2.35M/2.35M [00:00<00:00, 79.2MB/s]\n",
            "Downloading train.csv.zip to /content\n",
            " 41% 9.00M/22.1M [00:00<00:00, 92.7MB/s]\n",
            "100% 22.1M/22.1M [00:00<00:00, 136MB/s] \n",
            "Downloading test.csv.zip to /content\n",
            " 48% 9.00M/18.7M [00:00<00:00, 32.8MB/s]\n",
            "100% 18.7M/18.7M [00:00<00:00, 53.8MB/s]\n"
          ]
        }
      ]
    },
    {
      "cell_type": "code",
      "source": [
        "# 파일 업로드\n",
        "myfile = files.upload()"
      ],
      "metadata": {
        "colab": {
          "resources": {
            "http://localhost:8080/nbextensions/google.colab/files.js": {
              "data": "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",
              "ok": true,
              "headers": [
                [
                  "content-type",
                  "application/javascript"
                ]
              ],
              "status": 200,
              "status_text": "OK"
            }
          },
          "base_uri": "https://localhost:8080/",
          "height": 166
        },
        "id": "K4cyUnW26P0H",
        "outputId": "fe0dbc55-bfab-4217-9d1e-9d0b50663a45"
      },
      "execution_count": 5,
      "outputs": [
        {
          "output_type": "display_data",
          "data": {
            "text/html": [
              "\n",
              "     <input type=\"file\" id=\"files-1adba676-08ae-45bf-a4bc-16378f21f020\" name=\"files[]\" multiple disabled\n",
              "        style=\"border:none\" />\n",
              "     <output id=\"result-1adba676-08ae-45bf-a4bc-16378f21f020\">\n",
              "      Upload widget is only available when the cell has been executed in the\n",
              "      current browser session. Please rerun this cell to enable.\n",
              "      </output>\n",
              "      <script src=\"/nbextensions/google.colab/files.js\"></script> "
            ],
            "text/plain": [
              "<IPython.core.display.HTML object>"
            ]
          },
          "metadata": {}
        },
        {
          "output_type": "stream",
          "name": "stdout",
          "text": [
            "Saving sampleSubmission.csv to sampleSubmission.csv\n",
            "Saving test.csv to test.csv\n",
            "Saving train.csv to train.csv\n"
          ]
        }
      ]
    },
    {
      "cell_type": "code",
      "source": [
        "import io\n",
        "import pandas as pd\n",
        "import numpy as np\n",
        "%matplotlib inline\n",
        "import seaborn as sns\n",
        "import matplotlib.pyplot as plt\n",
        "from scipy.stats import norm"
      ],
      "metadata": {
        "id": "MJmM95rQ6P4S"
      },
      "execution_count": 14,
      "outputs": []
    },
    {
      "cell_type": "code",
      "source": [
        "train=pd.read_csv(io.BytesIO(myfile['train.csv']))\n",
        "test=pd.read_csv(io.BytesIO(myfile['test.csv']))\n",
        "submission=pd.read_csv(io.BytesIO(myfile['sampleSubmission.csv']))"
      ],
      "metadata": {
        "id": "UVgpKbBH6P8C"
      },
      "execution_count": 15,
      "outputs": []
    },
    {
      "cell_type": "code",
      "source": [
        "train.head()"
      ],
      "metadata": {
        "colab": {
          "base_uri": "https://localhost:8080/",
          "height": 530
        },
        "id": "lKcgpbrN6P_2",
        "outputId": "27dca7f3-6d23-41e4-952e-0bc39e2d3b23"
      },
      "execution_count": 16,
      "outputs": [
        {
          "output_type": "execute_result",
          "data": {
            "text/html": [
              "\n",
              "  <div id=\"df-ceebc8f0-45c8-4bf4-bb26-cfdf4b351fb0\">\n",
              "    <div class=\"colab-df-container\">\n",
              "      <div>\n",
              "<style scoped>\n",
              "    .dataframe tbody tr th:only-of-type {\n",
              "        vertical-align: middle;\n",
              "    }\n",
              "\n",
              "    .dataframe tbody tr th {\n",
              "        vertical-align: top;\n",
              "    }\n",
              "\n",
              "    .dataframe thead th {\n",
              "        text-align: right;\n",
              "    }\n",
              "</style>\n",
              "<table border=\"1\" class=\"dataframe\">\n",
              "  <thead>\n",
              "    <tr style=\"text-align: right;\">\n",
              "      <th></th>\n",
              "      <th>Dates</th>\n",
              "      <th>Category</th>\n",
              "      <th>Descript</th>\n",
              "      <th>DayOfWeek</th>\n",
              "      <th>PdDistrict</th>\n",
              "      <th>Resolution</th>\n",
              "      <th>Address</th>\n",
              "      <th>X</th>\n",
              "      <th>Y</th>\n",
              "    </tr>\n",
              "  </thead>\n",
              "  <tbody>\n",
              "    <tr>\n",
              "      <th>0</th>\n",
              "      <td>2015-05-13 23:53:00</td>\n",
              "      <td>WARRANTS</td>\n",
              "      <td>WARRANT ARREST</td>\n",
              "      <td>Wednesday</td>\n",
              "      <td>NORTHERN</td>\n",
              "      <td>ARREST, BOOKED</td>\n",
              "      <td>OAK ST / LAGUNA ST</td>\n",
              "      <td>-122.425892</td>\n",
              "      <td>37.774599</td>\n",
              "    </tr>\n",
              "    <tr>\n",
              "      <th>1</th>\n",
              "      <td>2015-05-13 23:53:00</td>\n",
              "      <td>OTHER OFFENSES</td>\n",
              "      <td>TRAFFIC VIOLATION ARREST</td>\n",
              "      <td>Wednesday</td>\n",
              "      <td>NORTHERN</td>\n",
              "      <td>ARREST, BOOKED</td>\n",
              "      <td>OAK ST / LAGUNA ST</td>\n",
              "      <td>-122.425892</td>\n",
              "      <td>37.774599</td>\n",
              "    </tr>\n",
              "    <tr>\n",
              "      <th>2</th>\n",
              "      <td>2015-05-13 23:33:00</td>\n",
              "      <td>OTHER OFFENSES</td>\n",
              "      <td>TRAFFIC VIOLATION ARREST</td>\n",
              "      <td>Wednesday</td>\n",
              "      <td>NORTHERN</td>\n",
              "      <td>ARREST, BOOKED</td>\n",
              "      <td>VANNESS AV / GREENWICH ST</td>\n",
              "      <td>-122.424363</td>\n",
              "      <td>37.800414</td>\n",
              "    </tr>\n",
              "    <tr>\n",
              "      <th>3</th>\n",
              "      <td>2015-05-13 23:30:00</td>\n",
              "      <td>LARCENY/THEFT</td>\n",
              "      <td>GRAND THEFT FROM LOCKED AUTO</td>\n",
              "      <td>Wednesday</td>\n",
              "      <td>NORTHERN</td>\n",
              "      <td>NONE</td>\n",
              "      <td>1500 Block of LOMBARD ST</td>\n",
              "      <td>-122.426995</td>\n",
              "      <td>37.800873</td>\n",
              "    </tr>\n",
              "    <tr>\n",
              "      <th>4</th>\n",
              "      <td>2015-05-13 23:30:00</td>\n",
              "      <td>LARCENY/THEFT</td>\n",
              "      <td>GRAND THEFT FROM LOCKED AUTO</td>\n",
              "      <td>Wednesday</td>\n",
              "      <td>PARK</td>\n",
              "      <td>NONE</td>\n",
              "      <td>100 Block of BRODERICK ST</td>\n",
              "      <td>-122.438738</td>\n",
              "      <td>37.771541</td>\n",
              "    </tr>\n",
              "  </tbody>\n",
              "</table>\n",
              "</div>\n",
              "      <button class=\"colab-df-convert\" onclick=\"convertToInteractive('df-ceebc8f0-45c8-4bf4-bb26-cfdf4b351fb0')\"\n",
              "              title=\"Convert this dataframe to an interactive table.\"\n",
              "              style=\"display:none;\">\n",
              "        \n",
              "  <svg xmlns=\"http://www.w3.org/2000/svg\" height=\"24px\"viewBox=\"0 0 24 24\"\n",
              "       width=\"24px\">\n",
              "    <path d=\"M0 0h24v24H0V0z\" fill=\"none\"/>\n",
              "    <path d=\"M18.56 5.44l.94 2.06.94-2.06 2.06-.94-2.06-.94-.94-2.06-.94 2.06-2.06.94zm-11 1L8.5 8.5l.94-2.06 2.06-.94-2.06-.94L8.5 2.5l-.94 2.06-2.06.94zm10 10l.94 2.06.94-2.06 2.06-.94-2.06-.94-.94-2.06-.94 2.06-2.06.94z\"/><path d=\"M17.41 7.96l-1.37-1.37c-.4-.4-.92-.59-1.43-.59-.52 0-1.04.2-1.43.59L10.3 9.45l-7.72 7.72c-.78.78-.78 2.05 0 2.83L4 21.41c.39.39.9.59 1.41.59.51 0 1.02-.2 1.41-.59l7.78-7.78 2.81-2.81c.8-.78.8-2.07 0-2.86zM5.41 20L4 18.59l7.72-7.72 1.47 1.35L5.41 20z\"/>\n",
              "  </svg>\n",
              "      </button>\n",
              "      \n",
              "  <style>\n",
              "    .colab-df-container {\n",
              "      display:flex;\n",
              "      flex-wrap:wrap;\n",
              "      gap: 12px;\n",
              "    }\n",
              "\n",
              "    .colab-df-convert {\n",
              "      background-color: #E8F0FE;\n",
              "      border: none;\n",
              "      border-radius: 50%;\n",
              "      cursor: pointer;\n",
              "      display: none;\n",
              "      fill: #1967D2;\n",
              "      height: 32px;\n",
              "      padding: 0 0 0 0;\n",
              "      width: 32px;\n",
              "    }\n",
              "\n",
              "    .colab-df-convert:hover {\n",
              "      background-color: #E2EBFA;\n",
              "      box-shadow: 0px 1px 2px rgba(60, 64, 67, 0.3), 0px 1px 3px 1px rgba(60, 64, 67, 0.15);\n",
              "      fill: #174EA6;\n",
              "    }\n",
              "\n",
              "    [theme=dark] .colab-df-convert {\n",
              "      background-color: #3B4455;\n",
              "      fill: #D2E3FC;\n",
              "    }\n",
              "\n",
              "    [theme=dark] .colab-df-convert:hover {\n",
              "      background-color: #434B5C;\n",
              "      box-shadow: 0px 1px 3px 1px rgba(0, 0, 0, 0.15);\n",
              "      filter: drop-shadow(0px 1px 2px rgba(0, 0, 0, 0.3));\n",
              "      fill: #FFFFFF;\n",
              "    }\n",
              "  </style>\n",
              "\n",
              "      <script>\n",
              "        const buttonEl =\n",
              "          document.querySelector('#df-ceebc8f0-45c8-4bf4-bb26-cfdf4b351fb0 button.colab-df-convert');\n",
              "        buttonEl.style.display =\n",
              "          google.colab.kernel.accessAllowed ? 'block' : 'none';\n",
              "\n",
              "        async function convertToInteractive(key) {\n",
              "          const element = document.querySelector('#df-ceebc8f0-45c8-4bf4-bb26-cfdf4b351fb0');\n",
              "          const dataTable =\n",
              "            await google.colab.kernel.invokeFunction('convertToInteractive',\n",
              "                                                     [key], {});\n",
              "          if (!dataTable) return;\n",
              "\n",
              "          const docLinkHtml = 'Like what you see? Visit the ' +\n",
              "            '<a target=\"_blank\" href=https://colab.research.google.com/notebooks/data_table.ipynb>data table notebook</a>'\n",
              "            + ' to learn more about interactive tables.';\n",
              "          element.innerHTML = '';\n",
              "          dataTable['output_type'] = 'display_data';\n",
              "          await google.colab.output.renderOutput(dataTable, element);\n",
              "          const docLink = document.createElement('div');\n",
              "          docLink.innerHTML = docLinkHtml;\n",
              "          element.appendChild(docLink);\n",
              "        }\n",
              "      </script>\n",
              "    </div>\n",
              "  </div>\n",
              "  "
            ],
            "text/plain": [
              "                 Dates        Category  ...           X          Y\n",
              "0  2015-05-13 23:53:00        WARRANTS  ... -122.425892  37.774599\n",
              "1  2015-05-13 23:53:00  OTHER OFFENSES  ... -122.425892  37.774599\n",
              "2  2015-05-13 23:33:00  OTHER OFFENSES  ... -122.424363  37.800414\n",
              "3  2015-05-13 23:30:00   LARCENY/THEFT  ... -122.426995  37.800873\n",
              "4  2015-05-13 23:30:00   LARCENY/THEFT  ... -122.438738  37.771541\n",
              "\n",
              "[5 rows x 9 columns]"
            ]
          },
          "metadata": {},
          "execution_count": 16
        }
      ]
    },
    {
      "cell_type": "code",
      "source": [
        "# 유형별 범죄 발생 가능성\n",
        "train['Category'].value_counts()"
      ],
      "metadata": {
        "colab": {
          "base_uri": "https://localhost:8080/"
        },
        "id": "RVr5iuU_6QDa",
        "outputId": "86e88d1c-e2a2-42e4-a242-fca1981a7ff9"
      },
      "execution_count": 18,
      "outputs": [
        {
          "output_type": "execute_result",
          "data": {
            "text/plain": [
              "LARCENY/THEFT                  174900\n",
              "OTHER OFFENSES                 126182\n",
              "NON-CRIMINAL                    92304\n",
              "ASSAULT                         76876\n",
              "DRUG/NARCOTIC                   53971\n",
              "VEHICLE THEFT                   53781\n",
              "VANDALISM                       44725\n",
              "WARRANTS                        42214\n",
              "BURGLARY                        36755\n",
              "SUSPICIOUS OCC                  31414\n",
              "MISSING PERSON                  25989\n",
              "ROBBERY                         23000\n",
              "FRAUD                           16679\n",
              "FORGERY/COUNTERFEITING          10609\n",
              "SECONDARY CODES                  9985\n",
              "WEAPON LAWS                      8555\n",
              "PROSTITUTION                     7484\n",
              "TRESPASS                         7326\n",
              "STOLEN PROPERTY                  4540\n",
              "SEX OFFENSES FORCIBLE            4388\n",
              "DISORDERLY CONDUCT               4320\n",
              "DRUNKENNESS                      4280\n",
              "RECOVERED VEHICLE                3138\n",
              "KIDNAPPING                       2341\n",
              "DRIVING UNDER THE INFLUENCE      2268\n",
              "RUNAWAY                          1946\n",
              "LIQUOR LAWS                      1903\n",
              "ARSON                            1513\n",
              "LOITERING                        1225\n",
              "EMBEZZLEMENT                     1166\n",
              "SUICIDE                           508\n",
              "FAMILY OFFENSES                   491\n",
              "BAD CHECKS                        406\n",
              "BRIBERY                           289\n",
              "EXTORTION                         256\n",
              "SEX OFFENSES NON FORCIBLE         148\n",
              "GAMBLING                          146\n",
              "PORNOGRAPHY/OBSCENE MAT            22\n",
              "TREA                                6\n",
              "Name: Category, dtype: int64"
            ]
          },
          "metadata": {},
          "execution_count": 18
        }
      ]
    },
    {
      "cell_type": "code",
      "source": [
        "# null값 확인\n",
        "train.isnull().sum()"
      ],
      "metadata": {
        "colab": {
          "base_uri": "https://localhost:8080/"
        },
        "id": "KSgO-gBnHNMa",
        "outputId": "66893413-27b0-4388-b98d-b4bb21350b66"
      },
      "execution_count": 19,
      "outputs": [
        {
          "output_type": "execute_result",
          "data": {
            "text/plain": [
              "Dates         0\n",
              "Category      0\n",
              "Descript      0\n",
              "DayOfWeek     0\n",
              "PdDistrict    0\n",
              "Resolution    0\n",
              "Address       0\n",
              "X             0\n",
              "Y             0\n",
              "dtype: int64"
            ]
          },
          "metadata": {},
          "execution_count": 19
        }
      ]
    },
    {
      "cell_type": "code",
      "source": [
        "test.isnull().sum()"
      ],
      "metadata": {
        "colab": {
          "base_uri": "https://localhost:8080/"
        },
        "id": "k-yuqCVuHNZV",
        "outputId": "d08fa7ee-55f8-4f47-cbfc-4678371f0a4c"
      },
      "execution_count": 20,
      "outputs": [
        {
          "output_type": "execute_result",
          "data": {
            "text/plain": [
              "Id            0\n",
              "Dates         0\n",
              "DayOfWeek     0\n",
              "PdDistrict    0\n",
              "Address       0\n",
              "X             0\n",
              "Y             0\n",
              "dtype: int64"
            ]
          },
          "metadata": {},
          "execution_count": 20
        }
      ]
    },
    {
      "cell_type": "code",
      "source": [
        "train['PdDistrict'].value_counts()"
      ],
      "metadata": {
        "colab": {
          "base_uri": "https://localhost:8080/"
        },
        "id": "bi2abImDHNiZ",
        "outputId": "f3fdeddf-ab63-4cc9-dd33-ae52f616ebd1"
      },
      "execution_count": 24,
      "outputs": [
        {
          "output_type": "execute_result",
          "data": {
            "text/plain": [
              "SOUTHERN      157182\n",
              "MISSION       119908\n",
              "NORTHERN      105296\n",
              "BAYVIEW        89431\n",
              "CENTRAL        85460\n",
              "TENDERLOIN     81809\n",
              "INGLESIDE      78845\n",
              "TARAVAL        65596\n",
              "PARK           49313\n",
              "RICHMOND       45209\n",
              "Name: PdDistrict, dtype: int64"
            ]
          },
          "metadata": {},
          "execution_count": 24
        }
      ]
    },
    {
      "cell_type": "code",
      "source": [
        "train.dtypes"
      ],
      "metadata": {
        "colab": {
          "base_uri": "https://localhost:8080/"
        },
        "id": "3Vj6wTjcHNof",
        "outputId": "9aee8992-c415-4402-add7-0c5a7cc9d2da"
      },
      "execution_count": 30,
      "outputs": [
        {
          "output_type": "execute_result",
          "data": {
            "text/plain": [
              "Dates          object\n",
              "Category       object\n",
              "Descript       object\n",
              "DayOfWeek      object\n",
              "PdDistrict     object\n",
              "Resolution     object\n",
              "Address        object\n",
              "X             float64\n",
              "Y             float64\n",
              "dtype: object"
            ]
          },
          "metadata": {},
          "execution_count": 30
        }
      ]
    },
    {
      "cell_type": "code",
      "source": [
        "# datetime64로 변환하면 나누기 쉬움\n",
        "train['Dates'] = train['Dates'].astype('datetime64')"
      ],
      "metadata": {
        "id": "ABDoWBPRHNr0"
      },
      "execution_count": 31,
      "outputs": []
    },
    {
      "cell_type": "code",
      "source": [
        "train['year'] = train['Dates'].dt.year\n",
        "train['month'] = train['Dates'].dt.month\n",
        "train['day'] = train['Dates'].dt.day\n",
        "train['hour'] = train['Dates'].dt.hour\n",
        "train['minute'] = train['Dates'].dt.minute"
      ],
      "metadata": {
        "id": "nW9b0dzOHNvb"
      },
      "execution_count": 32,
      "outputs": []
    },
    {
      "cell_type": "code",
      "source": [
        "pd.value_counts(train['year']).sort_index()"
      ],
      "metadata": {
        "colab": {
          "base_uri": "https://localhost:8080/"
        },
        "id": "8cHrmYGfHNyq",
        "outputId": "e22e320f-5bef-44ca-dff2-1458cdb4f50a"
      },
      "execution_count": 34,
      "outputs": [
        {
          "output_type": "execute_result",
          "data": {
            "text/plain": [
              "2003    73902\n",
              "2004    73422\n",
              "2005    70779\n",
              "2006    69909\n",
              "2007    68015\n",
              "2008    70174\n",
              "2009    69000\n",
              "2010    66542\n",
              "2011    66619\n",
              "2012    71731\n",
              "2013    75606\n",
              "2014    74766\n",
              "2015    27584\n",
              "Name: year, dtype: int64"
            ]
          },
          "metadata": {},
          "execution_count": 34
        }
      ]
    },
    {
      "cell_type": "code",
      "source": [
        "pd.value_counts(train['month']).sort_index()"
      ],
      "metadata": {
        "colab": {
          "base_uri": "https://localhost:8080/"
        },
        "id": "NBpwEbvaHN2T",
        "outputId": "b56bb127-f48f-43f7-d1cf-ee92ee6ff98e"
      },
      "execution_count": 35,
      "outputs": [
        {
          "output_type": "execute_result",
          "data": {
            "text/plain": [
              "1     73536\n",
              "2     70813\n",
              "3     76320\n",
              "4     78096\n",
              "5     79644\n",
              "6     70892\n",
              "7     69971\n",
              "8     68540\n",
              "9     71982\n",
              "10    80274\n",
              "11    72975\n",
              "12    65006\n",
              "Name: month, dtype: int64"
            ]
          },
          "metadata": {},
          "execution_count": 35
        }
      ]
    },
    {
      "cell_type": "code",
      "source": [
        "train['DayOfWeek'].value_counts()"
      ],
      "metadata": {
        "colab": {
          "base_uri": "https://localhost:8080/"
        },
        "id": "474F2H8mHN5s",
        "outputId": "c0c1e385-c6ba-4d40-93be-29aa01e2f494"
      },
      "execution_count": 37,
      "outputs": [
        {
          "output_type": "execute_result",
          "data": {
            "text/plain": [
              "Friday       133734\n",
              "Wednesday    129211\n",
              "Saturday     126810\n",
              "Thursday     125038\n",
              "Tuesday      124965\n",
              "Monday       121584\n",
              "Sunday       116707\n",
              "Name: DayOfWeek, dtype: int64"
            ]
          },
          "metadata": {},
          "execution_count": 37
        }
      ]
    },
    {
      "cell_type": "code",
      "source": [
        "y_train = train['Category']"
      ],
      "metadata": {
        "id": "vfQ4JpBbHN8s"
      },
      "execution_count": 38,
      "outputs": []
    },
    {
      "cell_type": "code",
      "source": [
        "# test 데이터에 없는 train 데이터 drop\n",
        "train = train.drop(['Dates','Category','Descript','Resolution'], axis=1)"
      ],
      "metadata": {
        "id": "F6jROre5HN_2"
      },
      "execution_count": 39,
      "outputs": []
    },
    {
      "cell_type": "code",
      "source": [
        "sns.histplot(data=train,x='month')"
      ],
      "metadata": {
        "colab": {
          "base_uri": "https://localhost:8080/",
          "height": 297
        },
        "id": "eYX1pFK5HOCx",
        "outputId": "1dbc996c-cf60-45d8-e21c-4b1d7b1c0773"
      },
      "execution_count": 45,
      "outputs": [
        {
          "output_type": "execute_result",
          "data": {
            "text/plain": [
              "<matplotlib.axes._subplots.AxesSubplot at 0x7f7b1b6bc4d0>"
            ]
          },
          "metadata": {},
          "execution_count": 45
        },
        {
          "output_type": "display_data",
          "data": {
            "image/png": "[encoded data removed]",
            "text/plain": [
              "<Figure size 432x288 with 1 Axes>"
            ]
          },
          "metadata": {
            "needs_background": "light"
          }
        }
      ]
    },
    {
      "cell_type": "code",
      "source": [
        "test = test.drop(['Id'],axis=1)\n",
        "test['Dates'] = test['Dates'].astype('datetime64')\n",
        "test['year'] = test['Dates'].dt.year\n",
        "test['month'] = test['Dates'].dt.month\n",
        "test['day'] = test['Dates'].dt.day\n",
        "test['hour'] = test['Dates'].dt.hour\n",
        "test['minute'] = test['Dates'].dt.minute"
      ],
      "metadata": {
        "id": "bq8hBNAO6QGt"
      },
      "execution_count": 48,
      "outputs": []
    },
    {
      "cell_type": "code",
      "source": [
        "test = test.drop(['Dates','day','minute'],axis=1)\n",
        "test.head()"
      ],
      "metadata": {
        "colab": {
          "base_uri": "https://localhost:8080/",
          "height": 337
        },
        "id": "lCSVwk1VNpHv",
        "outputId": "292ba91c-88f9-4039-c1e3-75932417494f"
      },
      "execution_count": 51,
      "outputs": [
        {
          "output_type": "execute_result",
          "data": {
            "text/html": [
              "\n",
              "  <div id=\"df-322b3a02-a780-4624-af78-c052adc5c911\">\n",
              "    <div class=\"colab-df-container\">\n",
              "      <div>\n",
              "<style scoped>\n",
              "    .dataframe tbody tr th:only-of-type {\n",
              "        vertical-align: middle;\n",
              "    }\n",
              "\n",
              "    .dataframe tbody tr th {\n",
              "        vertical-align: top;\n",
              "    }\n",
              "\n",
              "    .dataframe thead th {\n",
              "        text-align: right;\n",
              "    }\n",
              "</style>\n",
              "<table border=\"1\" class=\"dataframe\">\n",
              "  <thead>\n",
              "    <tr style=\"text-align: right;\">\n",
              "      <th></th>\n",
              "      <th>DayOfWeek</th>\n",
              "      <th>PdDistrict</th>\n",
              "      <th>Address</th>\n",
              "      <th>X</th>\n",
              "      <th>Y</th>\n",
              "      <th>year</th>\n",
              "      <th>month</th>\n",
              "      <th>hour</th>\n",
              "    </tr>\n",
              "  </thead>\n",
              "  <tbody>\n",
              "    <tr>\n",
              "      <th>0</th>\n",
              "      <td>Sunday</td>\n",
              "      <td>BAYVIEW</td>\n",
              "      <td>2000 Block of THOMAS AV</td>\n",
              "      <td>-122.399588</td>\n",
              "      <td>37.735051</td>\n",
              "      <td>2015</td>\n",
              "      <td>5</td>\n",
              "      <td>23</td>\n",
              "    </tr>\n",
              "    <tr>\n",
              "      <th>1</th>\n",
              "      <td>Sunday</td>\n",
              "      <td>BAYVIEW</td>\n",
              "      <td>3RD ST / REVERE AV</td>\n",
              "      <td>-122.391523</td>\n",
              "      <td>37.732432</td>\n",
              "      <td>2015</td>\n",
              "      <td>5</td>\n",
              "      <td>23</td>\n",
              "    </tr>\n",
              "    <tr>\n",
              "      <th>2</th>\n",
              "      <td>Sunday</td>\n",
              "      <td>NORTHERN</td>\n",
              "      <td>2000 Block of GOUGH ST</td>\n",
              "      <td>-122.426002</td>\n",
              "      <td>37.792212</td>\n",
              "      <td>2015</td>\n",
              "      <td>5</td>\n",
              "      <td>23</td>\n",
              "    </tr>\n",
              "    <tr>\n",
              "      <th>3</th>\n",
              "      <td>Sunday</td>\n",
              "      <td>INGLESIDE</td>\n",
              "      <td>4700 Block of MISSION ST</td>\n",
              "      <td>-122.437394</td>\n",
              "      <td>37.721412</td>\n",
              "      <td>2015</td>\n",
              "      <td>5</td>\n",
              "      <td>23</td>\n",
              "    </tr>\n",
              "    <tr>\n",
              "      <th>4</th>\n",
              "      <td>Sunday</td>\n",
              "      <td>INGLESIDE</td>\n",
              "      <td>4700 Block of MISSION ST</td>\n",
              "      <td>-122.437394</td>\n",
              "      <td>37.721412</td>\n",
              "      <td>2015</td>\n",
              "      <td>5</td>\n",
              "      <td>23</td>\n",
              "    </tr>\n",
              "  </tbody>\n",
              "</table>\n",
              "</div>\n",
              "      <button class=\"colab-df-convert\" onclick=\"convertToInteractive('df-322b3a02-a780-4624-af78-c052adc5c911')\"\n",
              "              title=\"Convert this dataframe to an interactive table.\"\n",
              "              style=\"display:none;\">\n",
              "        \n",
              "  <svg xmlns=\"http://www.w3.org/2000/svg\" height=\"24px\"viewBox=\"0 0 24 24\"\n",
              "       width=\"24px\">\n",
              "    <path d=\"M0 0h24v24H0V0z\" fill=\"none\"/>\n",
              "    <path d=\"M18.56 5.44l.94 2.06.94-2.06 2.06-.94-2.06-.94-.94-2.06-.94 2.06-2.06.94zm-11 1L8.5 8.5l.94-2.06 2.06-.94-2.06-.94L8.5 2.5l-.94 2.06-2.06.94zm10 10l.94 2.06.94-2.06 2.06-.94-2.06-.94-.94-2.06-.94 2.06-2.06.94z\"/><path d=\"M17.41 7.96l-1.37-1.37c-.4-.4-.92-.59-1.43-.59-.52 0-1.04.2-1.43.59L10.3 9.45l-7.72 7.72c-.78.78-.78 2.05 0 2.83L4 21.41c.39.39.9.59 1.41.59.51 0 1.02-.2 1.41-.59l7.78-7.78 2.81-2.81c.8-.78.8-2.07 0-2.86zM5.41 20L4 18.59l7.72-7.72 1.47 1.35L5.41 20z\"/>\n",
              "  </svg>\n",
              "      </button>\n",
              "      \n",
              "  <style>\n",
              "    .colab-df-container {\n",
              "      display:flex;\n",
              "      flex-wrap:wrap;\n",
              "      gap: 12px;\n",
              "    }\n",
              "\n",
              "    .colab-df-convert {\n",
              "      background-color: #E8F0FE;\n",
              "      border: none;\n",
              "      border-radius: 50%;\n",
              "      cursor: pointer;\n",
              "      display: none;\n",
              "      fill: #1967D2;\n",
              "      height: 32px;\n",
              "      padding: 0 0 0 0;\n",
              "      width: 32px;\n",
              "    }\n",
              "\n",
              "    .colab-df-convert:hover {\n",
              "      background-color: #E2EBFA;\n",
              "      box-shadow: 0px 1px 2px rgba(60, 64, 67, 0.3), 0px 1px 3px 1px rgba(60, 64, 67, 0.15);\n",
              "      fill: #174EA6;\n",
              "    }\n",
              "\n",
              "    [theme=dark] .colab-df-convert {\n",
              "      background-color: #3B4455;\n",
              "      fill: #D2E3FC;\n",
              "    }\n",
              "\n",
              "    [theme=dark] .colab-df-convert:hover {\n",
              "      background-color: #434B5C;\n",
              "      box-shadow: 0px 1px 3px 1px rgba(0, 0, 0, 0.15);\n",
              "      filter: drop-shadow(0px 1px 2px rgba(0, 0, 0, 0.3));\n",
              "      fill: #FFFFFF;\n",
              "    }\n",
              "  </style>\n",
              "\n",
              "      <script>\n",
              "        const buttonEl =\n",
              "          document.querySelector('#df-322b3a02-a780-4624-af78-c052adc5c911 button.colab-df-convert');\n",
              "        buttonEl.style.display =\n",
              "          google.colab.kernel.accessAllowed ? 'block' : 'none';\n",
              "\n",
              "        async function convertToInteractive(key) {\n",
              "          const element = document.querySelector('#df-322b3a02-a780-4624-af78-c052adc5c911');\n",
              "          const dataTable =\n",
              "            await google.colab.kernel.invokeFunction('convertToInteractive',\n",
              "                                                     [key], {});\n",
              "          if (!dataTable) return;\n",
              "\n",
              "          const docLinkHtml = 'Like what you see? Visit the ' +\n",
              "            '<a target=\"_blank\" href=https://colab.research.google.com/notebooks/data_table.ipynb>data table notebook</a>'\n",
              "            + ' to learn more about interactive tables.';\n",
              "          element.innerHTML = '';\n",
              "          dataTable['output_type'] = 'display_data';\n",
              "          await google.colab.output.renderOutput(dataTable, element);\n",
              "          const docLink = document.createElement('div');\n",
              "          docLink.innerHTML = docLinkHtml;\n",
              "          element.appendChild(docLink);\n",
              "        }\n",
              "      </script>\n",
              "    </div>\n",
              "  </div>\n",
              "  "
            ],
            "text/plain": [
              "  DayOfWeek PdDistrict                   Address  ...  year  month  hour\n",
              "0    Sunday    BAYVIEW   2000 Block of THOMAS AV  ...  2015      5    23\n",
              "1    Sunday    BAYVIEW        3RD ST / REVERE AV  ...  2015      5    23\n",
              "2    Sunday   NORTHERN    2000 Block of GOUGH ST  ...  2015      5    23\n",
              "3    Sunday  INGLESIDE  4700 Block of MISSION ST  ...  2015      5    23\n",
              "4    Sunday  INGLESIDE  4700 Block of MISSION ST  ...  2015      5    23\n",
              "\n",
              "[5 rows x 8 columns]"
            ]
          },
          "metadata": {},
          "execution_count": 51
        }
      ]
    },
    {
      "cell_type": "code",
      "source": [
        "train = train.drop(['day','minute'],axis=1)\n",
        "train.head()"
      ],
      "metadata": {
        "colab": {
          "base_uri": "https://localhost:8080/",
          "height": 337
        },
        "id": "Qpn3V3II6QJy",
        "outputId": "bbd78ee5-915b-4eca-fde2-1e34d30163eb"
      },
      "execution_count": 52,
      "outputs": [
        {
          "output_type": "execute_result",
          "data": {
            "text/html": [
              "\n",
              "  <div id=\"df-6b831a2c-8d5f-4228-8fa8-14bb1546d63f\">\n",
              "    <div class=\"colab-df-container\">\n",
              "      <div>\n",
              "<style scoped>\n",
              "    .dataframe tbody tr th:only-of-type {\n",
              "        vertical-align: middle;\n",
              "    }\n",
              "\n",
              "    .dataframe tbody tr th {\n",
              "        vertical-align: top;\n",
              "    }\n",
              "\n",
              "    .dataframe thead th {\n",
              "        text-align: right;\n",
              "    }\n",
              "</style>\n",
              "<table border=\"1\" class=\"dataframe\">\n",
              "  <thead>\n",
              "    <tr style=\"text-align: right;\">\n",
              "      <th></th>\n",
              "      <th>DayOfWeek</th>\n",
              "      <th>PdDistrict</th>\n",
              "      <th>Address</th>\n",
              "      <th>X</th>\n",
              "      <th>Y</th>\n",
              "      <th>year</th>\n",
              "      <th>month</th>\n",
              "      <th>hour</th>\n",
              "    </tr>\n",
              "  </thead>\n",
              "  <tbody>\n",
              "    <tr>\n",
              "      <th>0</th>\n",
              "      <td>Wednesday</td>\n",
              "      <td>NORTHERN</td>\n",
              "      <td>OAK ST / LAGUNA ST</td>\n",
              "      <td>-122.425892</td>\n",
              "      <td>37.774599</td>\n",
              "      <td>2015</td>\n",
              "      <td>5</td>\n",
              "      <td>23</td>\n",
              "    </tr>\n",
              "    <tr>\n",
              "      <th>1</th>\n",
              "      <td>Wednesday</td>\n",
              "      <td>NORTHERN</td>\n",
              "      <td>OAK ST / LAGUNA ST</td>\n",
              "      <td>-122.425892</td>\n",
              "      <td>37.774599</td>\n",
              "      <td>2015</td>\n",
              "      <td>5</td>\n",
              "      <td>23</td>\n",
              "    </tr>\n",
              "    <tr>\n",
              "      <th>2</th>\n",
              "      <td>Wednesday</td>\n",
              "      <td>NORTHERN</td>\n",
              "      <td>VANNESS AV / GREENWICH ST</td>\n",
              "      <td>-122.424363</td>\n",
              "      <td>37.800414</td>\n",
              "      <td>2015</td>\n",
              "      <td>5</td>\n",
              "      <td>23</td>\n",
              "    </tr>\n",
              "    <tr>\n",
              "      <th>3</th>\n",
              "      <td>Wednesday</td>\n",
              "      <td>NORTHERN</td>\n",
              "      <td>1500 Block of LOMBARD ST</td>\n",
              "      <td>-122.426995</td>\n",
              "      <td>37.800873</td>\n",
              "      <td>2015</td>\n",
              "      <td>5</td>\n",
              "      <td>23</td>\n",
              "    </tr>\n",
              "    <tr>\n",
              "      <th>4</th>\n",
              "      <td>Wednesday</td>\n",
              "      <td>PARK</td>\n",
              "      <td>100 Block of BRODERICK ST</td>\n",
              "      <td>-122.438738</td>\n",
              "      <td>37.771541</td>\n",
              "      <td>2015</td>\n",
              "      <td>5</td>\n",
              "      <td>23</td>\n",
              "    </tr>\n",
              "  </tbody>\n",
              "</table>\n",
              "</div>\n",
              "      <button class=\"colab-df-convert\" onclick=\"convertToInteractive('df-6b831a2c-8d5f-4228-8fa8-14bb1546d63f')\"\n",
              "              title=\"Convert this dataframe to an interactive table.\"\n",
              "              style=\"display:none;\">\n",
              "        \n",
              "  <svg xmlns=\"http://www.w3.org/2000/svg\" height=\"24px\"viewBox=\"0 0 24 24\"\n",
              "       width=\"24px\">\n",
              "    <path d=\"M0 0h24v24H0V0z\" fill=\"none\"/>\n",
              "    <path d=\"M18.56 5.44l.94 2.06.94-2.06 2.06-.94-2.06-.94-.94-2.06-.94 2.06-2.06.94zm-11 1L8.5 8.5l.94-2.06 2.06-.94-2.06-.94L8.5 2.5l-.94 2.06-2.06.94zm10 10l.94 2.06.94-2.06 2.06-.94-2.06-.94-.94-2.06-.94 2.06-2.06.94z\"/><path d=\"M17.41 7.96l-1.37-1.37c-.4-.4-.92-.59-1.43-.59-.52 0-1.04.2-1.43.59L10.3 9.45l-7.72 7.72c-.78.78-.78 2.05 0 2.83L4 21.41c.39.39.9.59 1.41.59.51 0 1.02-.2 1.41-.59l7.78-7.78 2.81-2.81c.8-.78.8-2.07 0-2.86zM5.41 20L4 18.59l7.72-7.72 1.47 1.35L5.41 20z\"/>\n",
              "  </svg>\n",
              "      </button>\n",
              "      \n",
              "  <style>\n",
              "    .colab-df-container {\n",
              "      display:flex;\n",
              "      flex-wrap:wrap;\n",
              "      gap: 12px;\n",
              "    }\n",
              "\n",
              "    .colab-df-convert {\n",
              "      background-color: #E8F0FE;\n",
              "      border: none;\n",
              "      border-radius: 50%;\n",
              "      cursor: pointer;\n",
              "      display: none;\n",
              "      fill: #1967D2;\n",
              "      height: 32px;\n",
              "      padding: 0 0 0 0;\n",
              "      width: 32px;\n",
              "    }\n",
              "\n",
              "    .colab-df-convert:hover {\n",
              "      background-color: #E2EBFA;\n",
              "      box-shadow: 0px 1px 2px rgba(60, 64, 67, 0.3), 0px 1px 3px 1px rgba(60, 64, 67, 0.15);\n",
              "      fill: #174EA6;\n",
              "    }\n",
              "\n",
              "    [theme=dark] .colab-df-convert {\n",
              "      background-color: #3B4455;\n",
              "      fill: #D2E3FC;\n",
              "    }\n",
              "\n",
              "    [theme=dark] .colab-df-convert:hover {\n",
              "      background-color: #434B5C;\n",
              "      box-shadow: 0px 1px 3px 1px rgba(0, 0, 0, 0.15);\n",
              "      filter: drop-shadow(0px 1px 2px rgba(0, 0, 0, 0.3));\n",
              "      fill: #FFFFFF;\n",
              "    }\n",
              "  </style>\n",
              "\n",
              "      <script>\n",
              "        const buttonEl =\n",
              "          document.querySelector('#df-6b831a2c-8d5f-4228-8fa8-14bb1546d63f button.colab-df-convert');\n",
              "        buttonEl.style.display =\n",
              "          google.colab.kernel.accessAllowed ? 'block' : 'none';\n",
              "\n",
              "        async function convertToInteractive(key) {\n",
              "          const element = document.querySelector('#df-6b831a2c-8d5f-4228-8fa8-14bb1546d63f');\n",
              "          const dataTable =\n",
              "            await google.colab.kernel.invokeFunction('convertToInteractive',\n",
              "                                                     [key], {});\n",
              "          if (!dataTable) return;\n",
              "\n",
              "          const docLinkHtml = 'Like what you see? Visit the ' +\n",
              "            '<a target=\"_blank\" href=https://colab.research.google.com/notebooks/data_table.ipynb>data table notebook</a>'\n",
              "            + ' to learn more about interactive tables.';\n",
              "          element.innerHTML = '';\n",
              "          dataTable['output_type'] = 'display_data';\n",
              "          await google.colab.output.renderOutput(dataTable, element);\n",
              "          const docLink = document.createElement('div');\n",
              "          docLink.innerHTML = docLinkHtml;\n",
              "          element.appendChild(docLink);\n",
              "        }\n",
              "      </script>\n",
              "    </div>\n",
              "  </div>\n",
              "  "
            ],
            "text/plain": [
              "   DayOfWeek PdDistrict                    Address  ...  year  month  hour\n",
              "0  Wednesday   NORTHERN         OAK ST / LAGUNA ST  ...  2015      5    23\n",
              "1  Wednesday   NORTHERN         OAK ST / LAGUNA ST  ...  2015      5    23\n",
              "2  Wednesday   NORTHERN  VANNESS AV / GREENWICH ST  ...  2015      5    23\n",
              "3  Wednesday   NORTHERN   1500 Block of LOMBARD ST  ...  2015      5    23\n",
              "4  Wednesday       PARK  100 Block of BRODERICK ST  ...  2015      5    23\n",
              "\n",
              "[5 rows x 8 columns]"
            ]
          },
          "metadata": {},
          "execution_count": 52
        }
      ]
    },
    {
      "cell_type": "code",
      "source": [
        "# 라벨 인코딩\n",
        "from sklearn.preprocessing import LabelEncoder\n",
        "lb = LabelEncoder()\n",
        "train['DayOfWeek'] = lb.fit_transform(train['DayOfWeek'])"
      ],
      "metadata": {
        "id": "3ycEf-Ar6QNZ"
      },
      "execution_count": 53,
      "outputs": []
    },
    {
      "cell_type": "code",
      "source": [
        "test.dtypes"
      ],
      "metadata": {
        "colab": {
          "base_uri": "https://localhost:8080/"
        },
        "id": "tjLcb_RBujcr",
        "outputId": "deddc1e7-89ed-477e-b09b-2261f3930838"
      },
      "execution_count": 83,
      "outputs": [
        {
          "output_type": "execute_result",
          "data": {
            "text/plain": [
              "DayOfWeek       int64\n",
              "PdDistrict      int64\n",
              "X             float64\n",
              "Y             float64\n",
              "year            int64\n",
              "month           int64\n",
              "hour            int64\n",
              "block           int64\n",
              "ST              int64\n",
              "dtype: object"
            ]
          },
          "metadata": {},
          "execution_count": 83
        }
      ]
    },
    {
      "cell_type": "code",
      "source": [
        "train['PdDistrict'] = lb.fit_transform(train['PdDistrict'])"
      ],
      "metadata": {
        "id": "ZzOKetd2jsxH"
      },
      "execution_count": 55,
      "outputs": []
    },
    {
      "cell_type": "code",
      "source": [
        "test['DayOfWeek'] = lb.fit_transform(test['DayOfWeek'])\n",
        "test['PdDistrict'] = lb.fit_transform(test['PdDistrict'])"
      ],
      "metadata": {
        "id": "9CF0lLkmjs0b"
      },
      "execution_count": 57,
      "outputs": []
    },
    {
      "cell_type": "code",
      "source": [
        "# Address 데이터 나눔\n",
        "train['block'] = train['Address'].str.contains('block', case=False)\n",
        "test['block'] = test['Address'].str.contains('block', case=False)\n",
        "train['ST'] = train['Address'].str.contains('ST', case=False)\n",
        "test['ST'] = test['Address'].str.contains('ST', case=False)"
      ],
      "metadata": {
        "id": "iMpjQtMujs3Q"
      },
      "execution_count": 67,
      "outputs": []
    },
    {
      "cell_type": "code",
      "source": [
        "train = train.drop(['Address'],axis=1)\n",
        "test = test.drop(['Address'],axis=1)"
      ],
      "metadata": {
        "id": "6jJwZFZajs6q"
      },
      "execution_count": 68,
      "outputs": []
    },
    {
      "cell_type": "code",
      "source": [
        "train['block'] = lb.fit_transform(train['block'])\n",
        "test['block'] = lb.fit_transform(test['block'])\n",
        "train['ST'] = lb.fit_transform(train['ST'])\n",
        "test['ST'] = lb.fit_transform(test['ST'])"
      ],
      "metadata": {
        "id": "WuUEwAVujs_4"
      },
      "execution_count": 71,
      "outputs": []
    },
    {
      "cell_type": "code",
      "source": [
        "# 열 동일 확인\n",
        "print(train.shape,test.shape)"
      ],
      "metadata": {
        "colab": {
          "base_uri": "https://localhost:8080/"
        },
        "id": "eyC61puKjtCz",
        "outputId": "1113c5ba-b15d-4cab-e66b-598335b18ca4"
      },
      "execution_count": 78,
      "outputs": [
        {
          "output_type": "stream",
          "name": "stdout",
          "text": [
            "(878049, 9) (884262, 9)\n"
          ]
        }
      ]
    },
    {
      "cell_type": "code",
      "source": [
        "y_train = lb.fit_transform(y_train)"
      ],
      "metadata": {
        "id": "KsbtqhYMvDou"
      },
      "execution_count": 85,
      "outputs": []
    },
    {
      "cell_type": "code",
      "source": [
        "# Xgboost\n",
        "import xgboost as xgb\n",
        "x_train = xgb.DMatrix(train,label=y_train)\n",
        "x_test = xgb.DMatrix(test)\n",
        "params = {'max_depth':4,'eta':0.3,'silent':1,'objective':'multi:softprob','num_class':39}\n",
        "xg = xgb.cv(params,x_train, nfold=3, early_stopping_rounds=10,metrics='mlogloss',verbose_eval=True)\n"
      ],
      "metadata": {
        "colab": {
          "base_uri": "https://localhost:8080/"
        },
        "id": "wvJUFrxPjtFz",
        "outputId": "dc0e323d-8a50-45da-9c61-f22553dc9d22"
      },
      "execution_count": 86,
      "outputs": [
        {
          "output_type": "stream",
          "name": "stdout",
          "text": [
            "[0]\ttrain-mlogloss:3.13814+0.0017213\ttest-mlogloss:3.13899+0.00130763\n",
            "[1]\ttrain-mlogloss:2.95894+0.00190675\ttest-mlogloss:2.96041+0.00129772\n",
            "[2]\ttrain-mlogloss:2.84124+0.00183219\ttest-mlogloss:2.84335+0.00130917\n",
            "[3]\ttrain-mlogloss:2.7578+0.00113813\ttest-mlogloss:2.76045+0.000489928\n",
            "[4]\ttrain-mlogloss:2.69486+0.00116536\ttest-mlogloss:2.69787+0.000765751\n",
            "[5]\ttrain-mlogloss:2.64547+0.00127733\ttest-mlogloss:2.6489+0.00130682\n",
            "[6]\ttrain-mlogloss:2.60702+0.00105369\ttest-mlogloss:2.61084+0.00137542\n",
            "[7]\ttrain-mlogloss:2.57611+0.00161284\ttest-mlogloss:2.58034+0.00153973\n",
            "[8]\ttrain-mlogloss:2.54988+0.00170958\ttest-mlogloss:2.55452+0.00143254\n",
            "[9]\ttrain-mlogloss:2.52919+0.00165999\ttest-mlogloss:2.53422+0.00124928\n"
          ]
        }
      ]
    },
    {
      "cell_type": "code",
      "source": [
        "x_train = xgb.train(params, x_train, 10)\n",
        "pred_xgb = x_train.predict(x_test)"
      ],
      "metadata": {
        "id": "rD8TZPQMjtJS"
      },
      "execution_count": 87,
      "outputs": []
    },
    {
      "cell_type": "code",
      "source": [
        "submission = pd.DataFrame(pred_xgb,columns=lb.inverse_transform(np.linspace(0, 38, 39, dtype='int16')),index=test.index)\n",
        "submission.to_csv('sampleSubmission.csv', index_label='Id')"
      ],
      "metadata": {
        "id": "EgPPi5oSjtLp"
      },
      "execution_count": 96,
      "outputs": []
    },
    {
      "cell_type": "code",
      "source": [
        "submission"
      ],
      "metadata": {
        "colab": {
          "base_uri": "https://localhost:8080/",
          "height": 540
        },
        "id": "scYuGVQRysFG",
        "outputId": "75be33de-a001-4cc9-a9d3-f355d151b644"
      },
      "execution_count": 92,
      "outputs": [
        {
          "output_type": "execute_result",
          "data": {
            "text/html": [
              "\n",
              "  <div id=\"df-7d5f506c-8b8f-4aac-be17-9906a452c47a\">\n",
              "    <div class=\"colab-df-container\">\n",
              "      <div>\n",
              "<style scoped>\n",
              "    .dataframe tbody tr th:only-of-type {\n",
              "        vertical-align: middle;\n",
              "    }\n",
              "\n",
              "    .dataframe tbody tr th {\n",
              "        vertical-align: top;\n",
              "    }\n",
              "\n",
              "    .dataframe thead th {\n",
              "        text-align: right;\n",
              "    }\n",
              "</style>\n",
              "<table border=\"1\" class=\"dataframe\">\n",
              "  <thead>\n",
              "    <tr style=\"text-align: right;\">\n",
              "      <th></th>\n",
              "      <th>ARSON</th>\n",
              "      <th>ASSAULT</th>\n",
              "      <th>BAD CHECKS</th>\n",
              "      <th>BRIBERY</th>\n",
              "      <th>BURGLARY</th>\n",
              "      <th>DISORDERLY CONDUCT</th>\n",
              "      <th>DRIVING UNDER THE INFLUENCE</th>\n",
              "      <th>DRUG/NARCOTIC</th>\n",
              "      <th>DRUNKENNESS</th>\n",
              "      <th>EMBEZZLEMENT</th>\n",
              "      <th>EXTORTION</th>\n",
              "      <th>FAMILY OFFENSES</th>\n",
              "      <th>FORGERY/COUNTERFEITING</th>\n",
              "      <th>FRAUD</th>\n",
              "      <th>GAMBLING</th>\n",
              "      <th>KIDNAPPING</th>\n",
              "      <th>LARCENY/THEFT</th>\n",
              "      <th>LIQUOR LAWS</th>\n",
              "      <th>LOITERING</th>\n",
              "      <th>MISSING PERSON</th>\n",
              "      <th>NON-CRIMINAL</th>\n",
              "      <th>OTHER OFFENSES</th>\n",
              "      <th>PORNOGRAPHY/OBSCENE MAT</th>\n",
              "      <th>PROSTITUTION</th>\n",
              "      <th>RECOVERED VEHICLE</th>\n",
              "      <th>ROBBERY</th>\n",
              "      <th>RUNAWAY</th>\n",
              "      <th>SECONDARY CODES</th>\n",
              "      <th>SEX OFFENSES FORCIBLE</th>\n",
              "      <th>SEX OFFENSES NON FORCIBLE</th>\n",
              "      <th>STOLEN PROPERTY</th>\n",
              "      <th>SUICIDE</th>\n",
              "      <th>SUSPICIOUS OCC</th>\n",
              "      <th>TREA</th>\n",
              "      <th>TRESPASS</th>\n",
              "      <th>VANDALISM</th>\n",
              "      <th>VEHICLE THEFT</th>\n",
              "      <th>WARRANTS</th>\n",
              "      <th>WEAPON LAWS</th>\n",
              "    </tr>\n",
              "  </thead>\n",
              "  <tbody>\n",
              "    <tr>\n",
              "      <th>0</th>\n",
              "      <td>0.006503</td>\n",
              "      <td>0.126181</td>\n",
              "      <td>0.005205</td>\n",
              "      <td>0.005545</td>\n",
              "      <td>0.045144</td>\n",
              "      <td>0.006611</td>\n",
              "      <td>0.007534</td>\n",
              "      <td>0.026074</td>\n",
              "      <td>0.007332</td>\n",
              "      <td>0.005807</td>\n",
              "      <td>0.005291</td>\n",
              "      <td>0.007351</td>\n",
              "      <td>0.007327</td>\n",
              "      <td>0.011017</td>\n",
              "      <td>0.005187</td>\n",
              "      <td>0.008737</td>\n",
              "      <td>0.102325</td>\n",
              "      <td>0.006245</td>\n",
              "      <td>0.005299</td>\n",
              "      <td>0.075354</td>\n",
              "      <td>0.073073</td>\n",
              "      <td>0.079297</td>\n",
              "      <td>0.005109</td>\n",
              "      <td>0.008093</td>\n",
              "      <td>0.005106</td>\n",
              "      <td>0.028065</td>\n",
              "      <td>0.007203</td>\n",
              "      <td>0.019608</td>\n",
              "      <td>0.009478</td>\n",
              "      <td>0.005264</td>\n",
              "      <td>0.009677</td>\n",
              "      <td>0.005729</td>\n",
              "      <td>0.035203</td>\n",
              "      <td>0.005095</td>\n",
              "      <td>0.010905</td>\n",
              "      <td>0.069608</td>\n",
              "      <td>0.096676</td>\n",
              "      <td>0.032595</td>\n",
              "      <td>0.018144</td>\n",
              "    </tr>\n",
              "    <tr>\n",
              "      <th>1</th>\n",
              "      <td>0.004762</td>\n",
              "      <td>0.051014</td>\n",
              "      <td>0.004116</td>\n",
              "      <td>0.004429</td>\n",
              "      <td>0.005629</td>\n",
              "      <td>0.005250</td>\n",
              "      <td>0.007359</td>\n",
              "      <td>0.054510</td>\n",
              "      <td>0.007009</td>\n",
              "      <td>0.004124</td>\n",
              "      <td>0.004138</td>\n",
              "      <td>0.004142</td>\n",
              "      <td>0.004707</td>\n",
              "      <td>0.007936</td>\n",
              "      <td>0.005546</td>\n",
              "      <td>0.005621</td>\n",
              "      <td>0.088454</td>\n",
              "      <td>0.005459</td>\n",
              "      <td>0.004453</td>\n",
              "      <td>0.006890</td>\n",
              "      <td>0.044986</td>\n",
              "      <td>0.359821</td>\n",
              "      <td>0.004081</td>\n",
              "      <td>0.006329</td>\n",
              "      <td>0.004078</td>\n",
              "      <td>0.054893</td>\n",
              "      <td>0.004377</td>\n",
              "      <td>0.011322</td>\n",
              "      <td>0.005874</td>\n",
              "      <td>0.004204</td>\n",
              "      <td>0.007729</td>\n",
              "      <td>0.004107</td>\n",
              "      <td>0.028310</td>\n",
              "      <td>0.004070</td>\n",
              "      <td>0.004977</td>\n",
              "      <td>0.039240</td>\n",
              "      <td>0.058501</td>\n",
              "      <td>0.050974</td>\n",
              "      <td>0.016580</td>\n",
              "    </tr>\n",
              "    <tr>\n",
              "      <th>2</th>\n",
              "      <td>0.005219</td>\n",
              "      <td>0.070352</td>\n",
              "      <td>0.004176</td>\n",
              "      <td>0.004282</td>\n",
              "      <td>0.092386</td>\n",
              "      <td>0.005151</td>\n",
              "      <td>0.006046</td>\n",
              "      <td>0.012846</td>\n",
              "      <td>0.008529</td>\n",
              "      <td>0.005095</td>\n",
              "      <td>0.004512</td>\n",
              "      <td>0.004343</td>\n",
              "      <td>0.007933</td>\n",
              "      <td>0.017470</td>\n",
              "      <td>0.004206</td>\n",
              "      <td>0.005961</td>\n",
              "      <td>0.329417</td>\n",
              "      <td>0.004455</td>\n",
              "      <td>0.004426</td>\n",
              "      <td>0.019395</td>\n",
              "      <td>0.079405</td>\n",
              "      <td>0.058015</td>\n",
              "      <td>0.004100</td>\n",
              "      <td>0.005956</td>\n",
              "      <td>0.004089</td>\n",
              "      <td>0.022521</td>\n",
              "      <td>0.004538</td>\n",
              "      <td>0.012633</td>\n",
              "      <td>0.007788</td>\n",
              "      <td>0.004154</td>\n",
              "      <td>0.009389</td>\n",
              "      <td>0.004452</td>\n",
              "      <td>0.028556</td>\n",
              "      <td>0.004089</td>\n",
              "      <td>0.010010</td>\n",
              "      <td>0.050856</td>\n",
              "      <td>0.047477</td>\n",
              "      <td>0.018574</td>\n",
              "      <td>0.007196</td>\n",
              "    </tr>\n",
              "    <tr>\n",
              "      <th>3</th>\n",
              "      <td>0.006721</td>\n",
              "      <td>0.103781</td>\n",
              "      <td>0.005096</td>\n",
              "      <td>0.005429</td>\n",
              "      <td>0.039886</td>\n",
              "      <td>0.006117</td>\n",
              "      <td>0.007575</td>\n",
              "      <td>0.023999</td>\n",
              "      <td>0.006914</td>\n",
              "      <td>0.005547</td>\n",
              "      <td>0.005180</td>\n",
              "      <td>0.005917</td>\n",
              "      <td>0.007174</td>\n",
              "      <td>0.013441</td>\n",
              "      <td>0.005078</td>\n",
              "      <td>0.008555</td>\n",
              "      <td>0.126488</td>\n",
              "      <td>0.006114</td>\n",
              "      <td>0.005188</td>\n",
              "      <td>0.053750</td>\n",
              "      <td>0.076909</td>\n",
              "      <td>0.084637</td>\n",
              "      <td>0.005002</td>\n",
              "      <td>0.006734</td>\n",
              "      <td>0.004999</td>\n",
              "      <td>0.031308</td>\n",
              "      <td>0.007099</td>\n",
              "      <td>0.021301</td>\n",
              "      <td>0.008636</td>\n",
              "      <td>0.005153</td>\n",
              "      <td>0.009474</td>\n",
              "      <td>0.005432</td>\n",
              "      <td>0.034014</td>\n",
              "      <td>0.004989</td>\n",
              "      <td>0.008757</td>\n",
              "      <td>0.070251</td>\n",
              "      <td>0.125247</td>\n",
              "      <td>0.026790</td>\n",
              "      <td>0.015318</td>\n",
              "    </tr>\n",
              "    <tr>\n",
              "      <th>4</th>\n",
              "      <td>0.006721</td>\n",
              "      <td>0.103781</td>\n",
              "      <td>0.005096</td>\n",
              "      <td>0.005429</td>\n",
              "      <td>0.039886</td>\n",
              "      <td>0.006117</td>\n",
              "      <td>0.007575</td>\n",
              "      <td>0.023999</td>\n",
              "      <td>0.006914</td>\n",
              "      <td>0.005547</td>\n",
              "      <td>0.005180</td>\n",
              "      <td>0.005917</td>\n",
              "      <td>0.007174</td>\n",
              "      <td>0.013441</td>\n",
              "      <td>0.005078</td>\n",
              "      <td>0.008555</td>\n",
              "      <td>0.126488</td>\n",
              "      <td>0.006114</td>\n",
              "      <td>0.005188</td>\n",
              "      <td>0.053750</td>\n",
              "      <td>0.076909</td>\n",
              "      <td>0.084637</td>\n",
              "      <td>0.005002</td>\n",
              "      <td>0.006734</td>\n",
              "      <td>0.004999</td>\n",
              "      <td>0.031308</td>\n",
              "      <td>0.007099</td>\n",
              "      <td>0.021301</td>\n",
              "      <td>0.008636</td>\n",
              "      <td>0.005153</td>\n",
              "      <td>0.009474</td>\n",
              "      <td>0.005432</td>\n",
              "      <td>0.034014</td>\n",
              "      <td>0.004989</td>\n",
              "      <td>0.008757</td>\n",
              "      <td>0.070251</td>\n",
              "      <td>0.125247</td>\n",
              "      <td>0.026790</td>\n",
              "      <td>0.015318</td>\n",
              "    </tr>\n",
              "    <tr>\n",
              "      <th>...</th>\n",
              "      <td>...</td>\n",
              "      <td>...</td>\n",
              "      <td>...</td>\n",
              "      <td>...</td>\n",
              "      <td>...</td>\n",
              "      <td>...</td>\n",
              "      <td>...</td>\n",
              "      <td>...</td>\n",
              "      <td>...</td>\n",
              "      <td>...</td>\n",
              "      <td>...</td>\n",
              "      <td>...</td>\n",
              "      <td>...</td>\n",
              "      <td>...</td>\n",
              "      <td>...</td>\n",
              "      <td>...</td>\n",
              "      <td>...</td>\n",
              "      <td>...</td>\n",
              "      <td>...</td>\n",
              "      <td>...</td>\n",
              "      <td>...</td>\n",
              "      <td>...</td>\n",
              "      <td>...</td>\n",
              "      <td>...</td>\n",
              "      <td>...</td>\n",
              "      <td>...</td>\n",
              "      <td>...</td>\n",
              "      <td>...</td>\n",
              "      <td>...</td>\n",
              "      <td>...</td>\n",
              "      <td>...</td>\n",
              "      <td>...</td>\n",
              "      <td>...</td>\n",
              "      <td>...</td>\n",
              "      <td>...</td>\n",
              "      <td>...</td>\n",
              "      <td>...</td>\n",
              "      <td>...</td>\n",
              "      <td>...</td>\n",
              "    </tr>\n",
              "    <tr>\n",
              "      <th>884257</th>\n",
              "      <td>0.006046</td>\n",
              "      <td>0.103223</td>\n",
              "      <td>0.007280</td>\n",
              "      <td>0.005155</td>\n",
              "      <td>0.034306</td>\n",
              "      <td>0.008975</td>\n",
              "      <td>0.006614</td>\n",
              "      <td>0.036588</td>\n",
              "      <td>0.010386</td>\n",
              "      <td>0.010404</td>\n",
              "      <td>0.004919</td>\n",
              "      <td>0.005085</td>\n",
              "      <td>0.046379</td>\n",
              "      <td>0.043090</td>\n",
              "      <td>0.004823</td>\n",
              "      <td>0.006882</td>\n",
              "      <td>0.080066</td>\n",
              "      <td>0.009454</td>\n",
              "      <td>0.005268</td>\n",
              "      <td>0.026112</td>\n",
              "      <td>0.062744</td>\n",
              "      <td>0.117258</td>\n",
              "      <td>0.004750</td>\n",
              "      <td>0.010679</td>\n",
              "      <td>0.004735</td>\n",
              "      <td>0.021301</td>\n",
              "      <td>0.006567</td>\n",
              "      <td>0.015338</td>\n",
              "      <td>0.016455</td>\n",
              "      <td>0.005241</td>\n",
              "      <td>0.007610</td>\n",
              "      <td>0.005158</td>\n",
              "      <td>0.039372</td>\n",
              "      <td>0.004737</td>\n",
              "      <td>0.012044</td>\n",
              "      <td>0.055399</td>\n",
              "      <td>0.088056</td>\n",
              "      <td>0.046119</td>\n",
              "      <td>0.015383</td>\n",
              "    </tr>\n",
              "    <tr>\n",
              "      <th>884258</th>\n",
              "      <td>0.005635</td>\n",
              "      <td>0.076435</td>\n",
              "      <td>0.008345</td>\n",
              "      <td>0.004547</td>\n",
              "      <td>0.087259</td>\n",
              "      <td>0.012728</td>\n",
              "      <td>0.005913</td>\n",
              "      <td>0.017968</td>\n",
              "      <td>0.009377</td>\n",
              "      <td>0.012942</td>\n",
              "      <td>0.004967</td>\n",
              "      <td>0.004739</td>\n",
              "      <td>0.046460</td>\n",
              "      <td>0.047001</td>\n",
              "      <td>0.004542</td>\n",
              "      <td>0.006228</td>\n",
              "      <td>0.154995</td>\n",
              "      <td>0.005045</td>\n",
              "      <td>0.004910</td>\n",
              "      <td>0.016996</td>\n",
              "      <td>0.069159</td>\n",
              "      <td>0.086533</td>\n",
              "      <td>0.004427</td>\n",
              "      <td>0.010803</td>\n",
              "      <td>0.004413</td>\n",
              "      <td>0.018750</td>\n",
              "      <td>0.004900</td>\n",
              "      <td>0.012053</td>\n",
              "      <td>0.012218</td>\n",
              "      <td>0.004486</td>\n",
              "      <td>0.007802</td>\n",
              "      <td>0.004808</td>\n",
              "      <td>0.037910</td>\n",
              "      <td>0.004416</td>\n",
              "      <td>0.011481</td>\n",
              "      <td>0.060655</td>\n",
              "      <td>0.068090</td>\n",
              "      <td>0.031319</td>\n",
              "      <td>0.008743</td>\n",
              "    </tr>\n",
              "    <tr>\n",
              "      <th>884259</th>\n",
              "      <td>0.006857</td>\n",
              "      <td>0.099084</td>\n",
              "      <td>0.007126</td>\n",
              "      <td>0.005046</td>\n",
              "      <td>0.034905</td>\n",
              "      <td>0.007234</td>\n",
              "      <td>0.006474</td>\n",
              "      <td>0.023616</td>\n",
              "      <td>0.008132</td>\n",
              "      <td>0.010183</td>\n",
              "      <td>0.004815</td>\n",
              "      <td>0.005500</td>\n",
              "      <td>0.048792</td>\n",
              "      <td>0.057782</td>\n",
              "      <td>0.004721</td>\n",
              "      <td>0.007352</td>\n",
              "      <td>0.084063</td>\n",
              "      <td>0.005181</td>\n",
              "      <td>0.005156</td>\n",
              "      <td>0.033522</td>\n",
              "      <td>0.062784</td>\n",
              "      <td>0.100438</td>\n",
              "      <td>0.004649</td>\n",
              "      <td>0.005477</td>\n",
              "      <td>0.004635</td>\n",
              "      <td>0.018292</td>\n",
              "      <td>0.010688</td>\n",
              "      <td>0.018297</td>\n",
              "      <td>0.017395</td>\n",
              "      <td>0.006343</td>\n",
              "      <td>0.007746</td>\n",
              "      <td>0.005049</td>\n",
              "      <td>0.040632</td>\n",
              "      <td>0.004637</td>\n",
              "      <td>0.009604</td>\n",
              "      <td>0.064927</td>\n",
              "      <td>0.103567</td>\n",
              "      <td>0.034724</td>\n",
              "      <td>0.014573</td>\n",
              "    </tr>\n",
              "    <tr>\n",
              "      <th>884260</th>\n",
              "      <td>0.012761</td>\n",
              "      <td>0.099143</td>\n",
              "      <td>0.006992</td>\n",
              "      <td>0.004952</td>\n",
              "      <td>0.051100</td>\n",
              "      <td>0.008922</td>\n",
              "      <td>0.006143</td>\n",
              "      <td>0.033452</td>\n",
              "      <td>0.005808</td>\n",
              "      <td>0.010751</td>\n",
              "      <td>0.004725</td>\n",
              "      <td>0.006565</td>\n",
              "      <td>0.053040</td>\n",
              "      <td>0.049460</td>\n",
              "      <td>0.004699</td>\n",
              "      <td>0.006610</td>\n",
              "      <td>0.078750</td>\n",
              "      <td>0.005663</td>\n",
              "      <td>0.005850</td>\n",
              "      <td>0.030906</td>\n",
              "      <td>0.047768</td>\n",
              "      <td>0.094349</td>\n",
              "      <td>0.004562</td>\n",
              "      <td>0.006560</td>\n",
              "      <td>0.004548</td>\n",
              "      <td>0.018714</td>\n",
              "      <td>0.007289</td>\n",
              "      <td>0.014943</td>\n",
              "      <td>0.015086</td>\n",
              "      <td>0.005034</td>\n",
              "      <td>0.007309</td>\n",
              "      <td>0.005273</td>\n",
              "      <td>0.042031</td>\n",
              "      <td>0.004550</td>\n",
              "      <td>0.012191</td>\n",
              "      <td>0.065168</td>\n",
              "      <td>0.100562</td>\n",
              "      <td>0.043034</td>\n",
              "      <td>0.014736</td>\n",
              "    </tr>\n",
              "    <tr>\n",
              "      <th>884261</th>\n",
              "      <td>0.006942</td>\n",
              "      <td>0.080200</td>\n",
              "      <td>0.007214</td>\n",
              "      <td>0.004885</td>\n",
              "      <td>0.049417</td>\n",
              "      <td>0.007579</td>\n",
              "      <td>0.006565</td>\n",
              "      <td>0.015295</td>\n",
              "      <td>0.010568</td>\n",
              "      <td>0.010309</td>\n",
              "      <td>0.005276</td>\n",
              "      <td>0.005059</td>\n",
              "      <td>0.053171</td>\n",
              "      <td>0.058497</td>\n",
              "      <td>0.004779</td>\n",
              "      <td>0.007150</td>\n",
              "      <td>0.134545</td>\n",
              "      <td>0.005478</td>\n",
              "      <td>0.005220</td>\n",
              "      <td>0.019288</td>\n",
              "      <td>0.069831</td>\n",
              "      <td>0.082619</td>\n",
              "      <td>0.004707</td>\n",
              "      <td>0.005232</td>\n",
              "      <td>0.004692</td>\n",
              "      <td>0.012027</td>\n",
              "      <td>0.006433</td>\n",
              "      <td>0.015594</td>\n",
              "      <td>0.016513</td>\n",
              "      <td>0.004996</td>\n",
              "      <td>0.007444</td>\n",
              "      <td>0.005567</td>\n",
              "      <td>0.053096</td>\n",
              "      <td>0.004695</td>\n",
              "      <td>0.009723</td>\n",
              "      <td>0.072055</td>\n",
              "      <td>0.098950</td>\n",
              "      <td>0.017619</td>\n",
              "      <td>0.010772</td>\n",
              "    </tr>\n",
              "  </tbody>\n",
              "</table>\n",
              "<p>884262 rows × 39 columns</p>\n",
              "</div>\n",
              "      <button class=\"colab-df-convert\" onclick=\"convertToInteractive('df-7d5f506c-8b8f-4aac-be17-9906a452c47a')\"\n",
              "              title=\"Convert this dataframe to an interactive table.\"\n",
              "              style=\"display:none;\">\n",
              "        \n",
              "  <svg xmlns=\"http://www.w3.org/2000/svg\" height=\"24px\"viewBox=\"0 0 24 24\"\n",
              "       width=\"24px\">\n",
              "    <path d=\"M0 0h24v24H0V0z\" fill=\"none\"/>\n",
              "    <path d=\"M18.56 5.44l.94 2.06.94-2.06 2.06-.94-2.06-.94-.94-2.06-.94 2.06-2.06.94zm-11 1L8.5 8.5l.94-2.06 2.06-.94-2.06-.94L8.5 2.5l-.94 2.06-2.06.94zm10 10l.94 2.06.94-2.06 2.06-.94-2.06-.94-.94-2.06-.94 2.06-2.06.94z\"/><path d=\"M17.41 7.96l-1.37-1.37c-.4-.4-.92-.59-1.43-.59-.52 0-1.04.2-1.43.59L10.3 9.45l-7.72 7.72c-.78.78-.78 2.05 0 2.83L4 21.41c.39.39.9.59 1.41.59.51 0 1.02-.2 1.41-.59l7.78-7.78 2.81-2.81c.8-.78.8-2.07 0-2.86zM5.41 20L4 18.59l7.72-7.72 1.47 1.35L5.41 20z\"/>\n",
              "  </svg>\n",
              "      </button>\n",
              "      \n",
              "  <style>\n",
              "    .colab-df-container {\n",
              "      display:flex;\n",
              "      flex-wrap:wrap;\n",
              "      gap: 12px;\n",
              "    }\n",
              "\n",
              "    .colab-df-convert {\n",
              "      background-color: #E8F0FE;\n",
              "      border: none;\n",
              "      border-radius: 50%;\n",
              "      cursor: pointer;\n",
              "      display: none;\n",
              "      fill: #1967D2;\n",
              "      height: 32px;\n",
              "      padding: 0 0 0 0;\n",
              "      width: 32px;\n",
              "    }\n",
              "\n",
              "    .colab-df-convert:hover {\n",
              "      background-color: #E2EBFA;\n",
              "      box-shadow: 0px 1px 2px rgba(60, 64, 67, 0.3), 0px 1px 3px 1px rgba(60, 64, 67, 0.15);\n",
              "      fill: #174EA6;\n",
              "    }\n",
              "\n",
              "    [theme=dark] .colab-df-convert {\n",
              "      background-color: #3B4455;\n",
              "      fill: #D2E3FC;\n",
              "    }\n",
              "\n",
              "    [theme=dark] .colab-df-convert:hover {\n",
              "      background-color: #434B5C;\n",
              "      box-shadow: 0px 1px 3px 1px rgba(0, 0, 0, 0.15);\n",
              "      filter: drop-shadow(0px 1px 2px rgba(0, 0, 0, 0.3));\n",
              "      fill: #FFFFFF;\n",
              "    }\n",
              "  </style>\n",
              "\n",
              "      <script>\n",
              "        const buttonEl =\n",
              "          document.querySelector('#df-7d5f506c-8b8f-4aac-be17-9906a452c47a button.colab-df-convert');\n",
              "        buttonEl.style.display =\n",
              "          google.colab.kernel.accessAllowed ? 'block' : 'none';\n",
              "\n",
              "        async function convertToInteractive(key) {\n",
              "          const element = document.querySelector('#df-7d5f506c-8b8f-4aac-be17-9906a452c47a');\n",
              "          const dataTable =\n",
              "            await google.colab.kernel.invokeFunction('convertToInteractive',\n",
              "                                                     [key], {});\n",
              "          if (!dataTable) return;\n",
              "\n",
              "          const docLinkHtml = 'Like what you see? Visit the ' +\n",
              "            '<a target=\"_blank\" href=https://colab.research.google.com/notebooks/data_table.ipynb>data table notebook</a>'\n",
              "            + ' to learn more about interactive tables.';\n",
              "          element.innerHTML = '';\n",
              "          dataTable['output_type'] = 'display_data';\n",
              "          await google.colab.output.renderOutput(dataTable, element);\n",
              "          const docLink = document.createElement('div');\n",
              "          docLink.innerHTML = docLinkHtml;\n",
              "          element.appendChild(docLink);\n",
              "        }\n",
              "      </script>\n",
              "    </div>\n",
              "  </div>\n",
              "  "
            ],
            "text/plain": [
              "           ARSON   ASSAULT  BAD CHECKS  ...  VEHICLE THEFT  WARRANTS  WEAPON LAWS\n",
              "0       0.006503  0.126181    0.005205  ...       0.096676  0.032595     0.018144\n",
              "1       0.004762  0.051014    0.004116  ...       0.058501  0.050974     0.016580\n",
              "2       0.005219  0.070352    0.004176  ...       0.047477  0.018574     0.007196\n",
              "3       0.006721  0.103781    0.005096  ...       0.125247  0.026790     0.015318\n",
              "4       0.006721  0.103781    0.005096  ...       0.125247  0.026790     0.015318\n",
              "...          ...       ...         ...  ...            ...       ...          ...\n",
              "884257  0.006046  0.103223    0.007280  ...       0.088056  0.046119     0.015383\n",
              "884258  0.005635  0.076435    0.008345  ...       0.068090  0.031319     0.008743\n",
              "884259  0.006857  0.099084    0.007126  ...       0.103567  0.034724     0.014573\n",
              "884260  0.012761  0.099143    0.006992  ...       0.100562  0.043034     0.014736\n",
              "884261  0.006942  0.080200    0.007214  ...       0.098950  0.017619     0.010772\n",
              "\n",
              "[884262 rows x 39 columns]"
            ]
          },
          "metadata": {},
          "execution_count": 92
        }
      ]
    },
    {
      "cell_type": "code",
      "source": [
        "!kaggle competitions submit -c sf-crime -f sampleSubmission.csv -m \"Message\""
      ],
      "metadata": {
        "colab": {
          "base_uri": "https://localhost:8080/"
        },
        "id": "rqWhdcuI6QWS",
        "outputId": "cdd3b077-075e-4d37-eda8-9e12970d9d81"
      },
      "execution_count": 103,
      "outputs": [
        {
          "output_type": "stream",
          "name": "stdout",
          "text": [
            "Warning: Looks like you're using an outdated API Version, please consider updating (server 1.5.12 / client 1.5.4)\n",
            "100% 403M/403M [00:04<00:00, 102MB/s]\n",
            "Successfully submitted to San Francisco Crime Classification"
          ]
        }
      ]
    }
  ]
}